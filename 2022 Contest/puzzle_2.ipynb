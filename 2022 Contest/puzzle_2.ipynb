{
 "cells": [
  {
   "cell_type": "markdown",
   "metadata": {},
   "source": [
    "# Advent of Code Challenge\n",
    "## Depth measurement\n",
    "- by Justin Ehly"
   ]
  },
  {
   "cell_type": "code",
   "execution_count": 106,
   "metadata": {},
   "outputs": [],
   "source": [
    "import pandas as pd \n",
    "import numpy as np\n",
    "import os"
   ]
  },
  {
   "cell_type": "code",
   "execution_count": 107,
   "metadata": {},
   "outputs": [
    {
     "data": {
      "text/plain": [
       "'c:\\\\Users\\\\justi\\\\GitHub\\\\advent_of_code\\\\23-day 1'"
      ]
     },
     "execution_count": 107,
     "metadata": {},
     "output_type": "execute_result"
    }
   ],
   "source": [
    "os.getcwd()"
   ]
  },
  {
   "cell_type": "code",
   "execution_count": 118,
   "metadata": {},
   "outputs": [
    {
     "data": {
      "text/plain": [
       "array(['A Y', 'C Y', 'C X', ..., 'A Y', 'C X', 'A Y'], dtype='<U3')"
      ]
     },
     "execution_count": 118,
     "metadata": {},
     "output_type": "execute_result"
    }
   ],
   "source": [
    "# get input data\n",
    "\n",
    "with open ('input2.txt') as f:\n",
    "    data = np.array([line.strip() for line in f])\n",
    "            \n",
    "data"
   ]
  },
  {
   "cell_type": "code",
   "execution_count": 126,
   "metadata": {},
   "outputs": [],
   "source": [
    "# clean our the spaces\n",
    "def spaces(x):\n",
    "    if x == ' ':\n",
    "        return False\n",
    "    else:\n",
    "        return True\n",
    "rounds = [list(filter(spaces,x)) for x in data]\n",
    "#rounds"
   ]
  },
  {
   "cell_type": "code",
   "execution_count": 121,
   "metadata": {},
   "outputs": [
    {
     "data": {
      "text/plain": [
       "' \\nA Rock = 1\\nB Paper = 2\\nC Scissors = 3\\nX Rock = 1\\nY Paper = 2\\nX Scissors = 3 \\nrock beats scissors\\npaper beats rock\\nscissors beats paper\\nloss = 0\\ndraw = 3\\nwin = 6\\n'"
      ]
     },
     "execution_count": 121,
     "metadata": {},
     "output_type": "execute_result"
    }
   ],
   "source": [
    "''' \n",
    "A Rock = 1\n",
    "B Paper = 2\n",
    "C Scissors = 3\n",
    "X Rock = 1\n",
    "Y Paper = 2\n",
    "X Scissors = 3 \n",
    "rock beats scissors\n",
    "paper beats rock\n",
    "scissors beats paper\n",
    "loss = 0\n",
    "draw = 3\n",
    "win = 6\n",
    "'''\n",
    "\n"
   ]
  },
  {
   "cell_type": "code",
   "execution_count": 122,
   "metadata": {},
   "outputs": [
    {
     "data": {
      "text/plain": [
       "14531"
      ]
     },
     "execution_count": 122,
     "metadata": {},
     "output_type": "execute_result"
    }
   ],
   "source": [
    "# Rock \n",
    "def rock(round):\n",
    "    if round[1] == 'X' and round[0] == 'A':\n",
    "       score = sum([1,3])\n",
    "    else:\n",
    "        if round[1] == 'X' and round[0] == 'B':\n",
    "           score = sum([1,0])    \n",
    "        else:\n",
    "            if round[1] == 'X' and round[0] == 'C':\n",
    "              score = sum([1,6])\n",
    "    return score\n",
    "\n",
    "# Paper\n",
    "def paper(round):\n",
    "    #for hand in round:\n",
    "    if round[1] == 'Y' and round[0] == 'A':\n",
    "       score = sum([2,6])\n",
    "    else:\n",
    "        if round[1] == 'Y' and round[0] == 'B':\n",
    "            score = sum([2,3])\n",
    "        else:\n",
    "            if round[1] == 'Y' and round[0] == 'C':\n",
    "                score = sum([2,0])\n",
    "    return score\n",
    "# scissors                \n",
    "def scissors(round):\n",
    "    #for hand in round:\n",
    "    if round[1] == 'Z' and round[0] == 'A':\n",
    "       score = sum([3,0])\n",
    "    else:\n",
    "        if round[1] == 'Z' and round[0] == 'B':\n",
    "            score = sum([3,6])\n",
    "        else:\n",
    "            if round[1] == 'Z' and round[0] == 'C':\n",
    "                score = sum([3,3])\n",
    "    return score \n",
    "\n",
    "\n",
    "            \n",
    "def game_play(rounds):\n",
    "    scores = []\n",
    "    for game in rounds:\n",
    "        if game[1] == 'X':\n",
    "            scores.append(rock(game))\n",
    "        else:\n",
    "            if game[1] == 'Y':\n",
    "                scores.append(paper(game))\n",
    "            else:\n",
    "                scores.append(scissors(game))\n",
    "    return sum(scores)\n",
    "            \n",
    "            \n",
    "game_play(rounds)"
   ]
  },
  {
   "cell_type": "code",
   "execution_count": 123,
   "metadata": {},
   "outputs": [
    {
     "data": {
      "text/plain": [
       "'Part 2\\nX = lose\\nY = draw\\nX = win\\n'"
      ]
     },
     "execution_count": 123,
     "metadata": {},
     "output_type": "execute_result"
    }
   ],
   "source": [
    "'''Part 2\n",
    "X = lose\n",
    "Y = draw\n",
    "X = win\n",
    "'''"
   ]
  },
  {
   "cell_type": "code",
   "execution_count": 125,
   "metadata": {},
   "outputs": [
    {
     "data": {
      "text/plain": [
       "11258"
      ]
     },
     "execution_count": 125,
     "metadata": {},
     "output_type": "execute_result"
    }
   ],
   "source": [
    "# lose \n",
    "def lose(round):\n",
    "    if round[1] == 'X' and round[0] == 'A':\n",
    "       score = sum([3,0])\n",
    "    else:\n",
    "        if round[1] == 'X' and round[0] == 'B':\n",
    "           score = sum([1,0])    \n",
    "        else:\n",
    "            if round[1] == 'X' and round[0] == 'C':\n",
    "              score = sum([2,0])\n",
    "    return score\n",
    "\n",
    "# draw                \n",
    "def draw(round):\n",
    "    #for hand in round:\n",
    "    if round[1] == 'Y' and round[0] == 'A':\n",
    "       score = sum([1,3])\n",
    "    else:\n",
    "        if round[1] == 'Y' and round[0] == 'B':\n",
    "            score = sum([2,3])\n",
    "        else:\n",
    "            if round[1] == 'Y' and round[0] == 'C':\n",
    "                score = sum([3,3])\n",
    "    return score\n",
    "\n",
    "# win                \n",
    "def win(round):\n",
    "    #for hand in round:\n",
    "    if round[1] == 'Z' and round[0] == 'A':\n",
    "       score = sum([2,6])\n",
    "    else:\n",
    "        if round[1] == 'Z' and round[0] == 'B':\n",
    "            score = sum([3,6])\n",
    "        else:\n",
    "            if round[1] == 'Z' and round[0] == 'C':\n",
    "                score = sum([1,6])\n",
    "    return score \n",
    "\n",
    "\n",
    "            \n",
    "def game_play(rounds):\n",
    "    scores = []\n",
    "    for game in rounds:\n",
    "        if game[1] == 'X':\n",
    "            scores.append(lose(game))\n",
    "        else:\n",
    "            if game[1] == 'Y':\n",
    "                scores.append(draw(game))\n",
    "            else:\n",
    "                scores.append(win(game))\n",
    "    #print(scores)\n",
    "    return sum(scores)\n",
    "            \n",
    "            \n",
    "game_play(rounds)\n",
    "            "
   ]
  }
 ],
 "metadata": {
  "kernelspec": {
   "display_name": "Python 3.9.9 ('nlp')",
   "language": "python",
   "name": "python3"
  },
  "language_info": {
   "codemirror_mode": {
    "name": "ipython",
    "version": 3
   },
   "file_extension": ".py",
   "mimetype": "text/x-python",
   "name": "python",
   "nbconvert_exporter": "python",
   "pygments_lexer": "ipython3",
   "version": "3.9.9"
  },
  "orig_nbformat": 4,
  "vscode": {
   "interpreter": {
    "hash": "547e45396558a60c13bbd28606f99b4e85d4fbc684d1deab2913776af8c1b1a8"
   }
  }
 },
 "nbformat": 4,
 "nbformat_minor": 2
}
