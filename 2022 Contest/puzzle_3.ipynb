{
 "cells": [
  {
   "cell_type": "markdown",
   "metadata": {},
   "source": [
    "# Advent of Code Challenge\n",
    "## Depth measurement\n",
    "- by Justin Ehly"
   ]
  },
  {
   "cell_type": "code",
   "execution_count": 1,
   "metadata": {},
   "outputs": [],
   "source": [
    "import pandas as pd \n",
    "import numpy as np\n",
    "import os"
   ]
  },
  {
   "cell_type": "code",
   "execution_count": 2,
   "metadata": {},
   "outputs": [
    {
     "data": {
      "text/plain": [
       "'c:\\\\Users\\\\justi\\\\GitHub\\\\advent_of_code\\\\23-day 1'"
      ]
     },
     "execution_count": 2,
     "metadata": {},
     "output_type": "execute_result"
    }
   ],
   "source": [
    "os.getcwd()"
   ]
  },
  {
   "cell_type": "code",
   "execution_count": 60,
   "metadata": {},
   "outputs": [
    {
     "name": "stdout",
     "output_type": "stream",
     "text": [
      "['v', 'J', 'r', 'w', 'p', 'W', 't', 'w', 'J', 'g', 'W', 'r', 'h', 'c', 's', 'F', 'M', 'M', 'f', 'F', 'F', 'h', 'F', 'p']\n",
      "['j', 'q', 'H', 'R', 'N', 'q', 'R', 'j', 'q', 'z', 'j', 'G', 'D', 'L', 'G', 'L', 'r', 's', 'F', 'M', 'f', 'F', 'Z', 'S', 'r', 'L', 'r', 'F', 'Z', 's', 'S', 'L']\n",
      "['P', 'm', 'm', 'd', 'z', 'q', 'P', 'r', 'V', 'v', 'P', 'w', 'w', 'T', 'W', 'B', 'w', 'g']\n",
      "['w', 'M', 'q', 'v', 'L', 'M', 'Z', 'H', 'h', 'H', 'M', 'v', 'w', 'L', 'H', 'j', 'b', 'v', 'c', 'j', 'n', 'n', 'S', 'B', 'n', 'v', 'T', 'Q', 'F', 'n']\n",
      "['t', 't', 'g', 'J', 't', 'R', 'G', 'J', 'Q', 'c', 't', 'T', 'Z', 't', 'Z', 'T']\n",
      "['C', 'r', 'Z', 's', 'J', 's', 'P', 'P', 'Z', 's', 'G', 'z', 'w', 'w', 's', 'L', 'w', 'L', 'm', 'p', 'w', 'M', 'D', 'w']\n"
     ]
    }
   ],
   "source": [
    "# get input data\n",
    "\n",
    "with open ('sample3.txt') as f:\n",
    "    data = [list(line.strip()) for line in f]\n",
    "            \n",
    "for i in data:\n",
    "    print(i)"
   ]
  },
  {
   "cell_type": "code",
   "execution_count": 57,
   "metadata": {},
   "outputs": [
    {
     "data": {
      "text/plain": [
       "7875"
      ]
     },
     "execution_count": 57,
     "metadata": {},
     "output_type": "execute_result"
    }
   ],
   "source": [
    "# split each list into 2\n",
    "\n",
    "def ls_split(ls):\n",
    "    ls_mid = int(len(ls) / 2)\n",
    "    first_half = ls[:ls_mid]\n",
    "    sencond_half = ls[ls_mid:]\n",
    "    return [first_half, sencond_half]\n",
    "\n",
    "    \n",
    "def new_data(dt):\n",
    "    rucksacks = []\n",
    "    for ls in dt:\n",
    "        rucksacks.append(ls_split(ls))\n",
    "    return rucksacks\n",
    "    \n",
    "\n",
    "rucksacks = new_data(data)\n",
    "\n",
    "# find the common item between each compartment in each rucksack \n",
    "def rs_comp(data):\n",
    "    matched_items = []\n",
    "    for rs in data:\n",
    "        matched_items.append(list(set(rs[0]) & set(rs[1])))\n",
    "    return matched_items\n",
    "    \n",
    "common_items = rs_comp(rucksacks)\n",
    "\n",
    "# find positions in the alphabet and associate a value\n",
    "#AZ = np.arange(27,53)\n",
    "def positions(str, AZ = np.arange(27,53)):\n",
    "    for i in str:\n",
    "        NUM = 31\n",
    "        if i.isupper():\n",
    "            value = AZ[(ord(i) & 31)-1]\n",
    "        else:\n",
    "            value = ord(i) & NUM\n",
    "    return value \n",
    "\n",
    "\n",
    "def values(ci):\n",
    "    common_item_values = []\n",
    "    for item in ci:\n",
    "        common_item_values.append(positions(item[0]))\n",
    "    return sum(common_item_values)\n",
    "\n",
    "values(common_items)"
   ]
  },
  {
   "attachments": {},
   "cell_type": "markdown",
   "metadata": {},
   "source": [
    "### Part 2"
   ]
  },
  {
   "cell_type": "code",
   "execution_count": 78,
   "metadata": {},
   "outputs": [],
   "source": [
    "# get input data\n",
    "\n",
    "with open ('input3.txt') as f:\n",
    "    data = [list(line.strip()) for line in f]\n",
    "            \n",
    "#for i in data:\n",
    "#    print(i)"
   ]
  },
  {
   "cell_type": "code",
   "execution_count": 79,
   "metadata": {},
   "outputs": [
    {
     "data": {
      "text/plain": [
       "2479"
      ]
     },
     "execution_count": 79,
     "metadata": {},
     "output_type": "execute_result"
    }
   ],
   "source": [
    "# divide the elves into groups of 3\n",
    "def make_groups(data):\n",
    "    n = 3\n",
    "    return [data[i * n:(i+1) * n] for i in range((len(data) + n -1)// n)]\n",
    "\n",
    "elf_groups = make_groups(data)\n",
    "    \n",
    "#for g in elf_groups:\n",
    "#    print('[')\n",
    "#    for i in g:\n",
    "#        print(i)\n",
    "\n",
    "# find the common item between all these elves in each group\n",
    "def badges(groups):\n",
    "    badge = []\n",
    "    for item in groups:\n",
    "        badge.append(list(set(item[0]) & set(item[1]) & set(item[2])))\n",
    "    return badge\n",
    "\n",
    "group_badges = badges(elf_groups)\n",
    "\n",
    "values(group_badges)\n"
   ]
  }
 ],
 "metadata": {
  "kernelspec": {
   "display_name": "Python 3.9.9 ('nlp')",
   "language": "python",
   "name": "python3"
  },
  "language_info": {
   "codemirror_mode": {
    "name": "ipython",
    "version": 3
   },
   "file_extension": ".py",
   "mimetype": "text/x-python",
   "name": "python",
   "nbconvert_exporter": "python",
   "pygments_lexer": "ipython3",
   "version": "3.9.9"
  },
  "orig_nbformat": 4,
  "vscode": {
   "interpreter": {
    "hash": "547e45396558a60c13bbd28606f99b4e85d4fbc684d1deab2913776af8c1b1a8"
   }
  }
 },
 "nbformat": 4,
 "nbformat_minor": 2
}
