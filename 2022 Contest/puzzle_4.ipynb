{
 "cells": [
  {
   "cell_type": "markdown",
   "metadata": {},
   "source": [
    "# Advent of Code Challenge\n",
    "## Depth measurement\n",
    "- by Justin Ehly"
   ]
  },
  {
   "cell_type": "code",
   "execution_count": 76,
   "metadata": {},
   "outputs": [],
   "source": [
    "import pandas as pd \n",
    "import numpy as np\n",
    "import os\n",
    "import re"
   ]
  },
  {
   "cell_type": "code",
   "execution_count": 2,
   "metadata": {},
   "outputs": [
    {
     "data": {
      "text/plain": [
       "'c:\\\\Users\\\\justi\\\\GitHub\\\\advent_of_code\\\\23-day 1'"
      ]
     },
     "execution_count": 2,
     "metadata": {},
     "output_type": "execute_result"
    }
   ],
   "source": [
    "os.getcwd()"
   ]
  },
  {
   "cell_type": "code",
   "execution_count": 107,
   "metadata": {},
   "outputs": [
    {
     "name": "stdout",
     "output_type": "stream",
     "text": [
      "[[21, 81, 20, 96], [14, 80, 14, 79], [87, 89, 7, 88], [82, 93, 44, 82], [61, 93, 62, 86], [80, 94, 4, 80], [66, 90, 89, 91], [9, 70, 10, 10], [95, 97, 26, 96], [82, 87, 61, 88]]\n"
     ]
    }
   ],
   "source": [
    "# get input data\n",
    "\n",
    "with open ('input4.txt') as f:\n",
    "    data = [re.split('\\D',line.strip()) for line in f]\n",
    "data = [[int(x) for x in y] for y in data]            \n",
    "print(data[0:10])"
   ]
  },
  {
   "cell_type": "code",
   "execution_count": 108,
   "metadata": {},
   "outputs": [
    {
     "name": "stdout",
     "output_type": "stream",
     "text": [
      "[[21, 22, 23, 24, 25, 26, 27, 28, 29, 30, 31, 32, 33, 34, 35, 36, 37, 38, 39, 40, 41, 42, 43, 44, 45, 46, 47, 48, 49, 50, 51, 52, 53, 54, 55, 56, 57, 58, 59, 60, 61, 62, 63, 64, 65, 66, 67, 68, 69, 70, 71, 72, 73, 74, 75, 76, 77, 78, 79, 80, 81], [20, 21, 22, 23, 24, 25, 26, 27, 28, 29, 30, 31, 32, 33, 34, 35, 36, 37, 38, 39, 40, 41, 42, 43, 44, 45, 46, 47, 48, 49, 50, 51, 52, 53, 54, 55, 56, 57, 58, 59, 60, 61, 62, 63, 64, 65, 66, 67, 68, 69, 70, 71, 72, 73, 74, 75, 76, 77, 78, 79, 80, 81, 82, 83, 84, 85, 86, 87, 88, 89, 90, 91, 92, 93, 94, 95, 96]]\n"
     ]
    }
   ],
   "source": [
    "# split up the pairs of assignments and create ranges\n",
    "def pair_split(data):\n",
    "    # create the ranges from the start/ stop of each section\n",
    "    sections =  [[np.arange(x[0],x[1]+1).tolist(), np.arange(x[2],x[3]+1).tolist()] for x in data]\n",
    "    return sections\n",
    "\n",
    "new_data = pair_split(data)\n",
    "print(new_data[0])"
   ]
  },
  {
   "cell_type": "code",
   "execution_count": 103,
   "metadata": {},
   "outputs": [
    {
     "data": {
      "text/plain": [
       "511"
      ]
     },
     "execution_count": 103,
     "metadata": {},
     "output_type": "execute_result"
    }
   ],
   "source": [
    "# find overlapping sections\n",
    "\n",
    "def overlap(data):\n",
    "    list1 = []\n",
    "    list2 = []\n",
    "    results = []\n",
    "    for pair in data:\n",
    "        list1.append(all(item in pair[0] for item in pair[1]))\n",
    "        list2.append(all(item in pair[1] for item in pair[0]))\n",
    "    \n",
    "    # make one list to show where one section in the pair is completely covered by the other\n",
    "    final_comparison = []\n",
    "    for pos in range(len(list1)):\n",
    "        if list1[pos] > list2[pos]:\n",
    "            final_comparison.append(list1[pos])\n",
    "        else:\n",
    "            if list1[pos] < list2[pos]:\n",
    "                final_comparison.append(list2[pos])\n",
    "            else:\n",
    "                final_comparison.append(list1[pos])\n",
    "\n",
    "    count = []                \n",
    "    for i in final_comparison:\n",
    "        if i == True:\n",
    "            count.append(1)\n",
    "        else:\n",
    "            count.append(0)\n",
    "            \n",
    "    return sum(count)\n",
    "    # compare the lists for any True values\n",
    "    \n",
    "    return test_case1, test_case2\n",
    "    \n",
    "overlap(new_data)\n",
    "\n",
    "    "
   ]
  },
  {
   "attachments": {},
   "cell_type": "markdown",
   "metadata": {},
   "source": [
    "### Part 2\n"
   ]
  },
  {
   "cell_type": "code",
   "execution_count": 109,
   "metadata": {},
   "outputs": [
    {
     "data": {
      "text/plain": [
       "821"
      ]
     },
     "execution_count": 109,
     "metadata": {},
     "output_type": "execute_result"
    }
   ],
   "source": [
    "def overlap2(data):\n",
    "    list1 = []\n",
    "    list2 = []\n",
    "    results = []\n",
    "    for pair in data:\n",
    "        list1.append(any(item in pair[0] for item in pair[1]))\n",
    "        list2.append(any(item in pair[1] for item in pair[0]))\n",
    "    \n",
    "    # make one list to show where one section in the pair is completely covered by the other\n",
    "    final_comparison = []\n",
    "    for pos in range(len(list1)):\n",
    "        if list1[pos] > list2[pos]:\n",
    "            final_comparison.append(list1[pos])\n",
    "        else:\n",
    "            if list1[pos] < list2[pos]:\n",
    "                final_comparison.append(list2[pos])\n",
    "            else:\n",
    "                final_comparison.append(list1[pos])\n",
    "\n",
    "    count = []                \n",
    "    for i in final_comparison:\n",
    "        if i == True:\n",
    "            count.append(1)\n",
    "        else:\n",
    "            count.append(0)\n",
    "            \n",
    "    return sum(count)\n",
    "    # compare the lists for any True values\n",
    "    \n",
    "    return test_case1, test_case2\n",
    "    \n",
    "overlap2(new_data)"
   ]
  }
 ],
 "metadata": {
  "kernelspec": {
   "display_name": "Python 3.9.9 ('nlp')",
   "language": "python",
   "name": "python3"
  },
  "language_info": {
   "codemirror_mode": {
    "name": "ipython",
    "version": 3
   },
   "file_extension": ".py",
   "mimetype": "text/x-python",
   "name": "python",
   "nbconvert_exporter": "python",
   "pygments_lexer": "ipython3",
   "version": "3.9.9"
  },
  "orig_nbformat": 4,
  "vscode": {
   "interpreter": {
    "hash": "547e45396558a60c13bbd28606f99b4e85d4fbc684d1deab2913776af8c1b1a8"
   }
  }
 },
 "nbformat": 4,
 "nbformat_minor": 2
}
