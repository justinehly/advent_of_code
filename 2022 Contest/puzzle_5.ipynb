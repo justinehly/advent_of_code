{
 "cells": [
  {
   "cell_type": "markdown",
   "metadata": {},
   "source": [
    "# Advent of Code Challenge\n",
    "## Depth measurement\n",
    "- by Justin Ehly"
   ]
  },
  {
   "cell_type": "code",
   "execution_count": 2,
   "metadata": {},
   "outputs": [],
   "source": [
    "import pandas as pd \n",
    "import numpy as np\n",
    "import os\n",
    "import re"
   ]
  },
  {
   "cell_type": "code",
   "execution_count": 3,
   "metadata": {},
   "outputs": [
    {
     "data": {
      "text/plain": [
       "'c:\\\\Users\\\\justi\\\\GitHub\\\\advent_of_code\\\\23-day 1'"
      ]
     },
     "execution_count": 3,
     "metadata": {},
     "output_type": "execute_result"
    }
   ],
   "source": [
    "os.getcwd()"
   ]
  },
  {
   "cell_type": "code",
   "execution_count": 211,
   "metadata": {},
   "outputs": [
    {
     "data": {
      "text/plain": [
       "[['   ', '[D]', '   '], ['[N]', '[C]', '   '], ['[Z]', '[M]', '[P]']]"
      ]
     },
     "execution_count": 211,
     "metadata": {},
     "output_type": "execute_result"
    }
   ],
   "source": [
    "# get input data\n",
    "class shipping:\n",
    "    def __init__(self):\n",
    "        pass \n",
    "        \n",
    "    def get_data(self):\n",
    "        with open ('sample5.txt') as f:\n",
    "            data = [line.strip('\\n') for line in f]\n",
    "        self.data = data \n",
    "        return self \n",
    "\n",
    "    # create place holders for the blanks\n",
    "    def shape_data(self):\n",
    "        self.get_data()\n",
    "        containers = []\n",
    "        data = self.data\n",
    "        n = 4\n",
    "        for x,k in enumerate(data):\n",
    "            containers.append([data[x][i * n:(i+1) * n-1] for i in range((len(data[x]) + n-1)// n)])\n",
    "\n",
    "        self.containers = np.array(containers)\n",
    "        \n",
    "        return containers \n",
    "    \n",
    "   \n",
    "    \n",
    "elf = shipping().shape_data()\n",
    "elf\n",
    "    "
   ]
  },
  {
   "cell_type": "code",
   "execution_count": 167,
   "metadata": {},
   "outputs": [
    {
     "data": {
      "text/plain": [
       "<__main__.shipping at 0x280a4fc1c40>"
      ]
     },
     "execution_count": 167,
     "metadata": {},
     "output_type": "execute_result"
    }
   ],
   "source": [
    "shipping()"
   ]
  },
  {
   "cell_type": "code",
   "execution_count": 156,
   "metadata": {},
   "outputs": [
    {
     "name": "stdout",
     "output_type": "stream",
     "text": [
      "[['   ' '[D]' '   ']\n",
      " ['[N]' '[C]' '   ']\n",
      " ['[Z]' '[M]' '[P]']]\n"
     ]
    }
   ],
   "source": [
    "\n",
    "                 \n",
    "                    "
   ]
  },
  {
   "attachments": {},
   "cell_type": "markdown",
   "metadata": {},
   "source": [
    "### Part 2\n"
   ]
  }
 ],
 "metadata": {
  "kernelspec": {
   "display_name": "Python 3.9.9 ('nlp')",
   "language": "python",
   "name": "python3"
  },
  "language_info": {
   "codemirror_mode": {
    "name": "ipython",
    "version": 3
   },
   "file_extension": ".py",
   "mimetype": "text/x-python",
   "name": "python",
   "nbconvert_exporter": "python",
   "pygments_lexer": "ipython3",
   "version": "3.9.9"
  },
  "orig_nbformat": 4,
  "vscode": {
   "interpreter": {
    "hash": "547e45396558a60c13bbd28606f99b4e85d4fbc684d1deab2913776af8c1b1a8"
   }
  }
 },
 "nbformat": 4,
 "nbformat_minor": 2
}
