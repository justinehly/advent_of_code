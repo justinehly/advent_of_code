{
 "cells": [
  {
   "cell_type": "markdown",
   "metadata": {},
   "source": [
    "# Advent of Code Challenge\n",
    "## Depth measurement\n",
    "- by Justin Ehly"
   ]
  },
  {
   "cell_type": "code",
   "execution_count": 9,
   "metadata": {},
   "outputs": [],
   "source": [
    "import pandas as pd \n",
    "import numpy as np\n",
    "import os"
   ]
  },
  {
   "cell_type": "code",
   "execution_count": 11,
   "metadata": {},
   "outputs": [
    {
     "data": {
      "text/plain": [
       "'c:\\\\Users\\\\justi\\\\GitHub\\\\advent_of_code'"
      ]
     },
     "execution_count": 11,
     "metadata": {},
     "output_type": "execute_result"
    }
   ],
   "source": [
    "os.getcwd()"
   ]
  },
  {
   "cell_type": "code",
   "execution_count": 68,
   "metadata": {},
   "outputs": [
    {
     "data": {
      "text/plain": [
       "(2000, 1)"
      ]
     },
     "execution_count": 68,
     "metadata": {},
     "output_type": "execute_result"
    }
   ],
   "source": [
    "# get input data\n",
    "\n",
    "depth = pd.read_csv('input.csv', header = 0, names = ['input'])\n",
    "depth.shape"
   ]
  },
  {
   "cell_type": "code",
   "execution_count": 69,
   "metadata": {},
   "outputs": [
    {
     "name": "stdout",
     "output_type": "stream",
     "text": [
      "<class 'pandas.core.frame.DataFrame'>\n",
      "RangeIndex: 2000 entries, 0 to 1999\n",
      "Data columns (total 1 columns):\n",
      " #   Column  Non-Null Count  Dtype\n",
      "---  ------  --------------  -----\n",
      " 0   input   2000 non-null   int64\n",
      "dtypes: int64(1)\n",
      "memory usage: 15.8 KB\n"
     ]
    }
   ],
   "source": [
    "depth.info()"
   ]
  },
  {
   "cell_type": "code",
   "execution_count": 70,
   "metadata": {},
   "outputs": [],
   "source": [
    "result = []\n",
    "\n",
    "for i, d in enumerate(depth['input']):\n",
    "    if i == 0:\n",
    "        result.append('N/A - no previous result')\n",
    "    elif depth['input'][i] > depth['input'][i-1]:\n",
    "        result.append('increased')\n",
    "    elif depth['input'][i] < depth['input'][i-1]: \n",
    "        result.append('decreased')\n",
    "    else:\n",
    "        result.append('no change')\n",
    "    \n",
    "\n",
    "        "
   ]
  },
  {
   "cell_type": "code",
   "execution_count": 71,
   "metadata": {},
   "outputs": [
    {
     "name": "stdout",
     "output_type": "stream",
     "text": [
      "1226\n"
     ]
    }
   ],
   "source": [
    "count = 0\n",
    "for i in result:\n",
    "    if i == 'increased':\n",
    "        count += 1\n",
    "print(count)"
   ]
  },
  {
   "cell_type": "code",
   "execution_count": 72,
   "metadata": {},
   "outputs": [],
   "source": [
    "results = []\n",
    "\n",
    "for i, d in enumerate(depth['input']):\n",
    "    if i >= 3:\n",
    "        slider1 = [depth.input[i-1], depth.input[i-2], depth.input[i-3]]\n",
    "        slider2 = [depth.input[i], depth.input[i-1], depth.input[i-2]]\n",
    "        if sum(slider1) < sum(slider2):\n",
    "            results.append('increased')\n",
    "        elif sum(slider1) == sum(slider2):\n",
    "            results.append('no change')\n",
    "        else: \n",
    "            results.append('decreased')"
   ]
  },
  {
   "cell_type": "code",
   "execution_count": 73,
   "metadata": {},
   "outputs": [
    {
     "name": "stdout",
     "output_type": "stream",
     "text": [
      "1252\n"
     ]
    }
   ],
   "source": [
    "count = 0\n",
    "for i in results:\n",
    "    if i == 'increased':\n",
    "        count += 1\n",
    "print(count)"
   ]
  },
  {
   "cell_type": "code",
   "execution_count": null,
   "metadata": {},
   "outputs": [],
   "source": []
  }
 ],
 "metadata": {
  "interpreter": {
   "hash": "d79ba8e79765032897327de42ed33141ac1a390dddcd4b31b9e96475274b075c"
  },
  "kernelspec": {
   "display_name": "Python 3.8.10 64-bit ('QTW': conda)",
   "language": "python",
   "name": "python3"
  },
  "language_info": {
   "codemirror_mode": {
    "name": "ipython",
    "version": 3
   },
   "file_extension": ".py",
   "mimetype": "text/x-python",
   "name": "python",
   "nbconvert_exporter": "python",
   "pygments_lexer": "ipython3",
   "version": "3.8.12"
  },
  "orig_nbformat": 4
 },
 "nbformat": 4,
 "nbformat_minor": 2
}
