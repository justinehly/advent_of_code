{
 "cells": [
  {
   "cell_type": "code",
   "execution_count": 1,
   "metadata": {},
   "outputs": [],
   "source": [
    "# Advent Puzzle Day 3\n",
    "import pandas as pd\n",
    "import numpy as np\n",
    "import os"
   ]
  },
  {
   "cell_type": "code",
   "execution_count": 2,
   "metadata": {},
   "outputs": [
    {
     "data": {
      "text/plain": [
       "'c:\\\\Users\\\\justi\\\\GitHub\\\\advent_of_code'"
      ]
     },
     "execution_count": 2,
     "metadata": {},
     "output_type": "execute_result"
    }
   ],
   "source": [
    "os.chdir(r'C:\\Users\\justi\\GitHub\\advent_of_code')\n",
    "os.getcwd()"
   ]
  },
  {
   "cell_type": "code",
   "execution_count": 4,
   "metadata": {},
   "outputs": [],
   "source": [
    "with open('input_puzzle_3.txt') as f:\n",
    "    lines = f.readlines()"
   ]
  },
  {
   "cell_type": "code",
   "execution_count": 18,
   "metadata": {},
   "outputs": [],
   "source": [
    "input = [i[:-1] for i in lines]\n",
    "length = [len(str(i)) for i in input]"
   ]
  },
  {
   "cell_type": "code",
   "execution_count": 55,
   "metadata": {},
   "outputs": [],
   "source": [
    "  \n",
    "def most_frequent(col):\n",
    "    return max(set(col), key = col.count)\n",
    "\n",
    "def least_frequent(col):\n",
    "    return min(set(col), key = col.count)\n",
    "\n",
    "def build_list(input, x):\n",
    "    col = [i[x] for i in input]\n",
    "    return most_frequent(col), least_frequent(col)\n",
    "\n",
    "def rate_compiler(input):\n",
    "    gamma = []\n",
    "    epsilon = []\n",
    "    for i in range(12):\n",
    "        gamma_rate, epsilon_rate = build_list(input, i)\n",
    "        gamma.append(gamma_rate)\n",
    "        epsilon.append(epsilon_rate)\n",
    "    return gamma, epsilon\n",
    "\n",
    "def epsilon_compiler(input):\n",
    "    epsilon = []\n",
    "    for i in range(12):\n",
    "        epsilon.append(buid_list(input, i))\n",
    " "
   ]
  },
  {
   "cell_type": "code",
   "execution_count": 72,
   "metadata": {},
   "outputs": [
    {
     "name": "stdout",
     "output_type": "stream",
     "text": [
      "3022 1073\n"
     ]
    }
   ],
   "source": [
    "gamma, epsilon = rate_compiler(input)\n",
    "\n",
    "gamma = int(''.join(gamma), 2)\n",
    "epsilon = int(''.join(epsilon), 2)\n",
    "\n",
    "print(gamma,epsilon)"
   ]
  },
  {
   "cell_type": "code",
   "execution_count": 73,
   "metadata": {},
   "outputs": [
    {
     "name": "stdout",
     "output_type": "stream",
     "text": [
      "3242606\n"
     ]
    }
   ],
   "source": [
    "power_comsumption = gamma * epsilon\n",
    "print(power_comsumption)"
   ]
  },
  {
   "cell_type": "code",
   "execution_count": 60,
   "metadata": {},
   "outputs": [
    {
     "data": {
      "text/plain": [
       "['1', '0', '1', '1', '1', '1', '0', '0', '1', '1', '1', '0']"
      ]
     },
     "execution_count": 60,
     "metadata": {},
     "output_type": "execute_result"
    }
   ],
   "source": [
    "[item for items in gamma for item in items]"
   ]
  },
  {
   "cell_type": "code",
   "execution_count": 62,
   "metadata": {},
   "outputs": [
    {
     "data": {
      "text/plain": [
       "'101111001110'"
      ]
     },
     "execution_count": 62,
     "metadata": {},
     "output_type": "execute_result"
    }
   ],
   "source": [
    "''.join(gamma)"
   ]
  },
  {
   "cell_type": "markdown",
   "metadata": {},
   "source": [
    "## Part Two"
   ]
  },
  {
   "cell_type": "code",
   "execution_count": 109,
   "metadata": {},
   "outputs": [],
   "source": [
    "\n",
    "def reduce_oxygen(input, x):\n",
    "    bit = [i[x] for i in input]\n",
    "    zeros = bit.count('0')\n",
    "    ones = bit.count('1')\n",
    "    if zeros > ones:\n",
    "        sample = [i for i in input if i[x] == '0']\n",
    "    elif ones > zeros:\n",
    "        sample = [i for i in input if i[x] == '1']\n",
    "    elif ones == zeros:\n",
    "        sample = [i for i in input if i[x] == '1']\n",
    "    return sample\n",
    "\n",
    "def reduce_co2(input, x):\n",
    "    bit = [i[x] for i in input]\n",
    "    zeros = bit.count('0')\n",
    "    ones = bit.count('1')\n",
    "    if zeros < ones:\n",
    "        sample = [i for i in input if i[x] == '0']\n",
    "    elif ones < zeros:\n",
    "        sample = [i for i in input if i[x] == '1']\n",
    "    elif ones == zeros:\n",
    "        sample = [i for i in input if i[x] == '0']\n",
    "    return sample\n",
    "\n"
   ]
  },
  {
   "cell_type": "code",
   "execution_count": 114,
   "metadata": {},
   "outputs": [
    {
     "name": "stdout",
     "output_type": "stream",
     "text": [
      "['101110111101'] ['011001010000']\n",
      "3005 1616\n",
      "4856080\n"
     ]
    }
   ],
   "source": [
    "import copy\n",
    "oxygen = copy.deepcopy(input)\n",
    "for x in range(12):\n",
    "    if len(oxygen) > 1:\n",
    "        oxygen = reduce_oxygen(oxygen, x)\n",
    "    \n",
    "co2 = copy.deepcopy(input)\n",
    "for x in range(12):\n",
    "    if len(co2) > 1:\n",
    "        co2 = reduce_co2(co2, x)\n",
    "        \n",
    "oxygen_generator_rating = int(oxygen[0], 2)\n",
    "co2_scruber_rating = int(co2[0], 2)\n",
    "\n",
    "print(oxygen, co2)\n",
    "print(oxygen_generator_rating, co2_scruber_rating)\n",
    "\n",
    "life_support_rating = oxygen_generator_rating * co2_scruber_rating\n",
    "print(life_support_rating)"
   ]
  },
  {
   "cell_type": "code",
   "execution_count": 101,
   "metadata": {},
   "outputs": [
    {
     "data": {
      "text/plain": [
       "['101110111101']"
      ]
     },
     "execution_count": 101,
     "metadata": {},
     "output_type": "execute_result"
    }
   ],
   "source": [
    "sample"
   ]
  },
  {
   "cell_type": "code",
   "execution_count": null,
   "metadata": {},
   "outputs": [],
   "source": []
  }
 ],
 "metadata": {
  "interpreter": {
   "hash": "19d3e7aaac873176592bf5d2a1a75bbb24c4391e843b85be37ad8632463cb3d7"
  },
  "kernelspec": {
   "display_name": "Python 3.8.12 64-bit ('ML2': conda)",
   "language": "python",
   "name": "python3"
  },
  "language_info": {
   "codemirror_mode": {
    "name": "ipython",
    "version": 3
   },
   "file_extension": ".py",
   "mimetype": "text/x-python",
   "name": "python",
   "nbconvert_exporter": "python",
   "pygments_lexer": "ipython3",
   "version": "3.8.12"
  },
  "orig_nbformat": 4
 },
 "nbformat": 4,
 "nbformat_minor": 2
}
