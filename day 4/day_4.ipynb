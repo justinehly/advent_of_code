{
 "cells": [
  {
   "cell_type": "code",
   "execution_count": 1,
   "metadata": {},
   "outputs": [],
   "source": [
    "# Advent Puzzle Day 3\n",
    "import numpy as np\n",
    "import os"
   ]
  },
  {
   "cell_type": "code",
   "execution_count": 2,
   "metadata": {},
   "outputs": [],
   "source": [
    "# helper function to correctly point Justin's python to the correct platform (windows vs osX)\n",
    "def justin_chdir():\n",
    "    from sys import platform\n",
    "\n",
    "    # windows: be sure so to change the <file> location\n",
    "    if platform == 'win32': os.chdir(r'C:\\Users\\justi\\github\\advent_of_code\\day 4')\n",
    "\n",
    "    # Mac OSX: be sure so to change the <file> location\n",
    "    elif platform == 'darwin': os.chdir('/Users/justinehly/GitHub/advent_of_code/day 4/')\n",
    "\n",
    "justin_chdir()"
   ]
  },
  {
   "cell_type": "code",
   "execution_count": 169,
   "metadata": {},
   "outputs": [],
   "source": [
    "input = 'day_4_input.txt'\n",
    "example = 'day_4_example.txt'\n",
    "with open(input) as f:\n",
    "    lines = f.readlines()\n",
    "\n",
    "with open(example) as f:\n",
    "    lines2 = f.readlines()"
   ]
  },
  {
   "cell_type": "code",
   "execution_count": 184,
   "metadata": {},
   "outputs": [],
   "source": [
    "def _init_(lines):\n",
    "    # Extract the bingo drawings from the dataset\n",
    "    draw = [lines[0][:-1]]\n",
    "    draw = draw[0].split(',')\n",
    "    # set up the bingo boards using a 3d array that is 100 cards of 5x5\n",
    "    boards = lines[1:]\n",
    "    boards = [i[:-1] for i in boards if i != '\\n']\n",
    "    squid = []\n",
    "    for i,x in enumerate(boards):\n",
    "        squid.append(x.split())\n",
    "    bingo = []\n",
    "    b = 0\n",
    "    for i in range(0, len(squid), 5):\n",
    "        bingo.append(squid[i:i+5])\n",
    "    bingo = np.reshape(bingo, (len(bingo),5,5))\n",
    "    score = np.zeros((len(bingo),5,5))  # create 3D array of zeros to keep track of matched numbers\n",
    "    return draw, bingo, score\n",
    "\n"
   ]
  },
  {
   "cell_type": "code",
   "execution_count": 185,
   "metadata": {},
   "outputs": [],
   "source": [
    "def play_bingo(lines):\n",
    "    DRAW, BINGO, BINGO2 = _init_(lines)\n",
    "    test = True  # for the while loop\n",
    "    winning_card = []  # keep track of winning cards\n",
    "    winning_idx = [] # keep track of the winning cards binary array from the np.zeros above\n",
    "    draw_iterator = 0  # iterate through the number drawings\n",
    "    draws = []  # keep track of what numbers were drawn to the point that a winner was found\n",
    "    while test:\n",
    "        marker = np.where(BINGO == DRAW[draw_iterator])  # match the card numbers to the draw number\n",
    "        draws.append(DRAW[draw_iterator]) #keep track of the drawn numbers\n",
    "        BINGO2[marker] = 1  \n",
    "        draw_iterator += 1\n",
    "        for b, card in enumerate(BINGO2):   # iterate through the 100 cards that are marked as 1 or 0\n",
    "            for _,row in enumerate(card):  # iterate through each row of the binary cards\n",
    "                row_set = set(row)  # use a set to determine if a row is all 0s or all 1s\n",
    "                if len(row_set) == 1:  # we only want rows that are all 1s (matched numbers)\n",
    "                    iterator = iter(row_set) \n",
    "                    if next(iterator) == 1:   # this is how you get numbers from a set\n",
    "                        winning_card.append(BINGO[b]) # save the winning card\n",
    "                        winning_idx.append(BINGO2[b]) # save the winning binary card\n",
    "                        break # get out of the loop\n",
    "            for _,col in enumerate(card.T):  # transpose the card so that the columns become rows\n",
    "                col_set = set(col)\n",
    "                if len(col_set) == 1:\n",
    "                    iterator = iter(col_set)\n",
    "                    if next(iterator) == 1:\n",
    "                        winning_card.append(BINGO[b])\n",
    "                        winning_idx.append(BINGO2[b])\n",
    "                        break    \n",
    "        if len(winning_card) > 0: # if greater than 0 then we hve a winning card or cards\n",
    "            test = False\n",
    "            break\n",
    "    last_draw = DRAW[draw_iterator-1]\n",
    "    return winning_card, winning_idx, last_draw, draws, BINGO, BINGO2, b\n",
    "\n"
   ]
  },
  {
   "cell_type": "code",
   "execution_count": 186,
   "metadata": {},
   "outputs": [],
   "source": [
    "# Calculate the score of the winning card\n",
    "def calculate_card(card, idx, last_draw):\n",
    "    last_draw = int(last_draw) # convert the last number draw to an integer\n",
    "    marker = np.where(idx[0] == 0.) #find the non-matching numbers using the binary card as a map\n",
    "    \n",
    "    unmarked = card[0][marker]\n",
    "    score = sum(unmarked.astype('int')) * last_draw # get the score\n",
    "    return score\n",
    "    \n",
    "    \n"
   ]
  },
  {
   "cell_type": "code",
   "execution_count": 188,
   "metadata": {},
   "outputs": [
    {
     "data": {
      "text/plain": [
       "4512"
      ]
     },
     "execution_count": 188,
     "metadata": {},
     "output_type": "execute_result"
    }
   ],
   "source": [
    "\n",
    "winner = play_bingo(lines2)\n",
    "draws_sample = winner[3]\n",
    "winner = winner[0:3]\n",
    "calculate_card(*winner)"
   ]
  },
  {
   "cell_type": "markdown",
   "metadata": {},
   "source": [
    "# Let the squid win"
   ]
  },
  {
   "cell_type": "code",
   "execution_count": 200,
   "metadata": {},
   "outputs": [],
   "source": [
    "import copy\n",
    "def squid_wins(lines):\n",
    "    DRAW, BINGO, BINGO2 = _init_(lines)\n",
    "    test = True  # for the while loop\n",
    "    winning_card = []  # keep track of winning cards\n",
    "    winning_idx = [] # keep track of the winning cards binary array from the np.zeros above\n",
    "    winning_card_num = []  # iterate through the number drawings\n",
    "    draws = []  # keep track of what numbers were drawn to the point that a winner was found\n",
    "    winning_draw = []\n",
    "    for draw in DRAW:\n",
    "        marker = np.where(BINGO == draw)  # match the card numbers to the draw number\n",
    "        BINGO2[marker] = 1  \n",
    "        b = 0\n",
    "        for b, card in enumerate(BINGO2):   # iterate through the 100 cards that are marked as 1 or 0\n",
    "    \n",
    "            for _,row in enumerate(card):  # iterate through each row of the binary cards\n",
    "                row_set = set(row)  # use a set to determine if a row is all 0s or all 1s\n",
    "                if (len(row_set) == 1) and (b not in winning_card_num):  # we only want rows that are all 1s (matched numbers)\n",
    "                    iterator = iter(row_set) \n",
    "                    if next(iterator) == 1:   # this is how you get numbers from a set\n",
    "                        winning_card.append(copy.deepcopy(BINGO[b])) # save the winning card\n",
    "                        winning_idx.append(copy.deepcopy(BINGO2[b])) # save the winning binary card\n",
    "                        winning_draw.append(draw)\n",
    "                        winning_card_num.append(b)\n",
    "                        \n",
    "                        \n",
    "            for _,col in enumerate(card.T):  # transpose the card so that the columns become rows\n",
    "                col_set = set(col)\n",
    "                if (len(col_set) == 1) and (b not in winning_card_num):\n",
    "                    iterator = iter(col_set)\n",
    "                    if next(iterator) == 1:\n",
    "                        winning_card.append(copy.deepcopy(BINGO[b]))\n",
    "                        winning_idx.append(copy.deepcopy(BINGO2[b]))\n",
    "                        winning_draw.append(draw)\n",
    "                        winning_card_num.append(b)\n",
    "                        \n",
    "            if b < len(BINGO2):\n",
    "                b += 1                \n",
    "            else:\n",
    "                break\n",
    "                        \n",
    "    return winning_card, winning_idx, winning_draw"
   ]
  },
  {
   "cell_type": "code",
   "execution_count": 209,
   "metadata": {},
   "outputs": [],
   "source": [
    "# Calculate the score of the winning card\n",
    "def calculate_squid(card, idx, last_draw):\n",
    "    last_draw = int(last_draw) # convert the last number draw to an integer\n",
    "    marker = np.where(idx == 0.) #find the non-matching numbers using the binary card as a map\n",
    "    \n",
    "    unmarked = card[marker]\n",
    "    score = sum(unmarked.astype('int')) * last_draw # get the score\n",
    "    return score"
   ]
  },
  {
   "cell_type": "code",
   "execution_count": 211,
   "metadata": {},
   "outputs": [],
   "source": [
    "def play_squid(lines):\n",
    "    squid = squid_wins(lines)\n",
    "    length = len(squid[0])-1\n",
    "    winner = squid[0][length], squid[1][length], squid[2][length]\n",
    "    score = calculate_squid(*winner)\n",
    "    return score"
   ]
  },
  {
   "cell_type": "code",
   "execution_count": 212,
   "metadata": {},
   "outputs": [
    {
     "data": {
      "text/plain": [
       "1924"
      ]
     },
     "execution_count": 212,
     "metadata": {},
     "output_type": "execute_result"
    }
   ],
   "source": [
    "play_squid(lines2)\n"
   ]
  },
  {
   "cell_type": "code",
   "execution_count": 213,
   "metadata": {},
   "outputs": [
    {
     "data": {
      "text/plain": [
       "6256"
      ]
     },
     "execution_count": 213,
     "metadata": {},
     "output_type": "execute_result"
    }
   ],
   "source": [
    "play_squid(lines) "
   ]
  },
  {
   "cell_type": "code",
   "execution_count": null,
   "metadata": {},
   "outputs": [],
   "source": []
  }
 ],
 "metadata": {
  "interpreter": {
   "hash": "19d3e7aaac873176592bf5d2a1a75bbb24c4391e843b85be37ad8632463cb3d7"
  },
  "kernelspec": {
   "display_name": "Python 3.8.12 64-bit ('ML2': conda)",
   "language": "python",
   "name": "python3"
  },
  "language_info": {
   "codemirror_mode": {
    "name": "ipython",
    "version": 3
   },
   "file_extension": ".py",
   "mimetype": "text/x-python",
   "name": "python",
   "nbconvert_exporter": "python",
   "pygments_lexer": "ipython3",
   "version": "3.8.12"
  },
  "orig_nbformat": 4
 },
 "nbformat": 4,
 "nbformat_minor": 2
}
