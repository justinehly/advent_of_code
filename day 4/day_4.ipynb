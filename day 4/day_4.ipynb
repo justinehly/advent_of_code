{
 "cells": [
  {
   "cell_type": "code",
   "execution_count": 29,
   "metadata": {},
   "outputs": [],
   "source": [
    "# Advent Puzzle Day 3\n",
    "import numpy as np\n",
    "import os"
   ]
  },
  {
   "cell_type": "code",
   "execution_count": 30,
   "metadata": {},
   "outputs": [
    {
     "data": {
      "text/plain": [
       "'/Users/justinehly/GitHub/advent_of_code/day 4'"
      ]
     },
     "execution_count": 30,
     "metadata": {},
     "output_type": "execute_result"
    }
   ],
   "source": [
    "os.chdir('/Users/justinehly/GitHub/advent_of_code/day 4/')\n",
    "os.getcwd()"
   ]
  },
  {
   "cell_type": "code",
   "execution_count": 31,
   "metadata": {},
   "outputs": [],
   "source": [
    "input = 'day_4_input.txt'\n",
    "with open(input) as f:\n",
    "    lines = f.readlines()"
   ]
  },
  {
   "cell_type": "code",
   "execution_count": 32,
   "metadata": {},
   "outputs": [],
   "source": [
    "DRAW = [lines[0][:-1]]\n",
    "DRAW = DRAW[0].split(',')"
   ]
  },
  {
   "cell_type": "code",
   "execution_count": 33,
   "metadata": {},
   "outputs": [],
   "source": [
    "\n",
    "boards = lines[1:]\n",
    "boards = [i[:-1] for i in boards if i != '\\n']\n",
    "squid = []\n",
    "for i,x in enumerate(boards):\n",
    "    squid.append(x.split())\n",
    "BINGO = []\n",
    "b = 0\n",
    "for i in range(0, len(squid), 5):\n",
    "    BINGO.append(squid[i:i+5])\n",
    "\n"
   ]
  },
  {
   "cell_type": "code",
   "execution_count": 34,
   "metadata": {},
   "outputs": [
    {
     "data": {
      "text/plain": [
       "array([0., 0., 0., 0., 0., 0., 0., 0., 0., 0., 0., 0., 0., 0., 0., 0., 0.,\n",
       "       0., 0., 0., 0., 0., 0., 0., 0., 0., 0., 0., 0., 0., 0., 0., 0., 0.,\n",
       "       0., 0., 0., 0., 0., 0., 0., 0., 0., 0., 0., 0., 0., 0., 0., 0., 0.,\n",
       "       0., 0., 0., 0., 0., 0., 0., 0., 0., 0., 0., 0., 0., 0., 0., 0., 0.,\n",
       "       0., 0., 0., 0., 0., 0., 0., 0., 0., 0., 0., 0., 0., 0., 0., 0., 0.,\n",
       "       0., 0., 0., 0., 0., 0., 0., 0., 0., 0., 0., 0., 0., 0., 0.])"
      ]
     },
     "execution_count": 34,
     "metadata": {},
     "output_type": "execute_result"
    }
   ],
   "source": [
    "BINGO2 = np.zeros((5,5,100))\n",
    "BINGO2[0,0]"
   ]
  },
  {
   "cell_type": "code",
   "execution_count": 42,
   "metadata": {},
   "outputs": [
    {
     "data": {
      "text/plain": [
       "(5, 5, 100)"
      ]
     },
     "execution_count": 42,
     "metadata": {},
     "output_type": "execute_result"
    }
   ],
   "source": [
    "BINGO = np.ndarray.reshape(BINGO,(5,5,100))\n",
    "BINGO.shape"
   ]
  },
  {
   "cell_type": "code",
   "execution_count": 43,
   "metadata": {},
   "outputs": [
    {
     "data": {
      "text/plain": [
       "array(['57', '7', '8', '38', '31', '17', '96', '5', '12', '18', '58',\n",
       "       '45', '81', '89', '4', '73', '51', '93', '32', '10', '74', '50',\n",
       "       '26', '0', '24', '79', '67', '21', '84', '71', '25', '22', '19',\n",
       "       '80', '13', '10', '63', '90', '78', '33', '93', '50', '89', '58',\n",
       "       '87', '91', '7', '45', '6', '41', '66', '85', '4', '91', '41',\n",
       "       '59', '69', '16', '0', '90', '35', '13', '64', '61', '93', '11',\n",
       "       '20', '29', '67', '77', '92', '75', '58', '3', '34', '19', '1',\n",
       "       '34', '50', '76', '26', '75', '8', '28', '20', '96', '64', '49',\n",
       "       '77', '2', '18', '58', '62', '53', '60', '82', '99', '38', '10',\n",
       "       '83'], dtype='<U2')"
      ]
     },
     "execution_count": 43,
     "metadata": {},
     "output_type": "execute_result"
    }
   ],
   "source": [
    "BINGO[0,0]"
   ]
  },
  {
   "cell_type": "code",
   "execution_count": null,
   "metadata": {},
   "outputs": [],
   "source": [
    "\n",
    "\n"
   ]
  },
  {
   "cell_type": "code",
   "execution_count": null,
   "metadata": {},
   "outputs": [],
   "source": []
  },
  {
   "cell_type": "code",
   "execution_count": null,
   "metadata": {},
   "outputs": [],
   "source": []
  }
 ],
 "metadata": {
  "interpreter": {
   "hash": "19d3e7aaac873176592bf5d2a1a75bbb24c4391e843b85be37ad8632463cb3d7"
  },
  "kernelspec": {
   "display_name": "Python 3.8.12 64-bit ('ML2': conda)",
   "language": "python",
   "name": "python3"
  },
  "language_info": {
   "codemirror_mode": {
    "name": "ipython",
    "version": 3
   },
   "file_extension": ".py",
   "mimetype": "text/x-python",
   "name": "python",
   "nbconvert_exporter": "python",
   "pygments_lexer": "ipython3",
   "version": "3.9.7"
  },
  "orig_nbformat": 4
 },
 "nbformat": 4,
 "nbformat_minor": 2
}
