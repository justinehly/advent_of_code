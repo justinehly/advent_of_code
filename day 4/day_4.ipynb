{
 "cells": [
  {
   "cell_type": "code",
   "execution_count": 3,
   "metadata": {},
   "outputs": [],
   "source": [
    "# Advent Puzzle Day 3\n",
    "import numpy as np\n",
    "import os"
   ]
  },
  {
   "cell_type": "code",
   "execution_count": 4,
   "metadata": {},
   "outputs": [],
   "source": [
    "# helper function to correctly point Justin's python to the correct platform (windows vs osX)\n",
    "def justin_chdir():\n",
    "    from sys import platform\n",
    "\n",
    "    # windows: be sure so to change the <file> location\n",
    "    if platform == 'win32': os.chdir(r'C:\\Users\\justi\\github\\advent_of_code\\day 4')\n",
    "\n",
    "    # Mac OSX: be sure so to change the <file> location\n",
    "    elif platform == 'darwin': os.chdir('/Users/justinehly/GitHub/advent_of_code/day 4/')\n",
    "\n",
    "justin_chdir()"
   ]
  },
  {
   "cell_type": "code",
   "execution_count": 5,
   "metadata": {},
   "outputs": [],
   "source": [
    "input = 'day_4_input.txt'\n",
    "#input = 'day_4_example.txt'\n",
    "with open(input) as f:\n",
    "    lines = f.readlines()"
   ]
  },
  {
   "cell_type": "code",
   "execution_count": null,
   "metadata": {},
   "outputs": [],
   "source": []
  },
  {
   "cell_type": "code",
   "execution_count": 6,
   "metadata": {},
   "outputs": [],
   "source": [
    "def _init_(lines):\n",
    "    # Extract the bingo drawings from the dataset\n",
    "    DRAW = [lines[0][:-1]]\n",
    "    DRAW = DRAW[0].split(',')\n",
    "    # set up the bingo bords using a 3d array that is 100 cards of 5x5\n",
    "    boards = lines[1:]\n",
    "    boards = [i[:-1] for i in boards if i != '\\n']\n",
    "    squid = []\n",
    "    for i,x in enumerate(boards):\n",
    "        squid.append(x.split())\n",
    "    BINGO = []\n",
    "    b = 0\n",
    "    for i in range(0, len(squid), 5):\n",
    "        BINGO.append(squid[i:i+5])\n",
    "    BINGO = np.reshape(BINGO, (100,5,5))\n",
    "    BINGO2 = np.zeros((100,5,5))  # create 3D array of zeros to keep track of matched numbers\n",
    "    return DRAW, BINGO, BINGO2\n",
    "\n"
   ]
  },
  {
   "cell_type": "code",
   "execution_count": 7,
   "metadata": {},
   "outputs": [],
   "source": [
    "def play_bingo(iteration, new_bingo, new_bingo2, draw):\n",
    "    if iteration == 0:\n",
    "        DRAW, BINGO, BINGO2 = _init_(lines)\n",
    "    else: \n",
    "        BINGO = new_bingo\n",
    "        BINGO2 = new_bingo2\n",
    "        DRAW = draw\n",
    "    test = True  # for the while loop\n",
    "    winning_card = []  # keep track of winning cards\n",
    "    winning_idx = [] # keep track of the winning cards binary array from the np.zeros above\n",
    "    draw_iterator = 0  # iterate through the number drawings\n",
    "    draws = []  # keep track of what numbers were drawn to the point that a winner was found\n",
    "    while test:\n",
    "        marker = np.where(BINGO == DRAW[draw_iterator])  # match the card numbers to the draw number\n",
    "        draws.append(DRAW[draw_iterator]) #keep track of the drawn numbers\n",
    "        BINGO2[marker] = 1  \n",
    "        draw_iterator += 1\n",
    "        for b, card in enumerate(BINGO2):   # iterate through the 100 cards that are marked as 1 or 0\n",
    "            for _,row in enumerate(card):  # iterate through each row of the binary cards\n",
    "                row_set = set(row)  # use a set to determine if a row is all 0s or all 1s\n",
    "                if len(row_set) == 1:  # we only want rows that are all 1s (matched numbers)\n",
    "                    iterator = iter(row_set) \n",
    "                    if next(iterator) == 1:   # this is how you get numbers from a set\n",
    "                        winning_card.append(BINGO[b]) # save the winning card\n",
    "                        winning_idx.append(BINGO2[b]) # save the winning binary card\n",
    "                        break # get out of the loop\n",
    "            for _,col in enumerate(card.T):  # transpose the card so that the columns become rows\n",
    "                col_set = set(col)\n",
    "                if len(col_set) == 1:\n",
    "                    iterator = iter(col_set)\n",
    "                    if next(iterator) == 1:\n",
    "                        winning_card.append(BINGO[b])\n",
    "                        winning_idx.append(BINGO2[b])\n",
    "                        break    \n",
    "        if len(winning_card) > 0: # if greater than 0 then we hve a winning card or cards\n",
    "            test = False\n",
    "            break\n",
    "    last_draw = DRAW[draw_iterator-1]\n",
    "    return winning_card, winning_idx, last_draw, draws, BINGO, BINGO2, b\n",
    "\n"
   ]
  },
  {
   "cell_type": "code",
   "execution_count": 8,
   "metadata": {},
   "outputs": [],
   "source": [
    "# Calculate the score of the winning card\n",
    "def calculate_card(card, idx, last_draw):\n",
    "    last_draw = int(last_draw) # convert the last number draw to an integer\n",
    "    marker = np.where(idx[0] == 0.) #find the non-matching numbers using the binary card as a map\n",
    "    unmarked = card[0][marker]\n",
    "    score = sum(unmarked.astype('int')) * last_draw # get the score\n",
    "    return score\n",
    "    \n",
    "    \n"
   ]
  },
  {
   "cell_type": "code",
   "execution_count": 9,
   "metadata": {},
   "outputs": [
    {
     "data": {
      "text/plain": [
       "58838"
      ]
     },
     "execution_count": 9,
     "metadata": {},
     "output_type": "execute_result"
    }
   ],
   "source": [
    "\n",
    "winner = play_bingo(0,0,0, 0)\n",
    "draws_sample = winner[3]\n",
    "winner = winner[0:3]\n",
    "calculate_card(*winner)"
   ]
  },
  {
   "cell_type": "code",
   "execution_count": null,
   "metadata": {},
   "outputs": [],
   "source": []
  },
  {
   "cell_type": "markdown",
   "metadata": {},
   "source": [
    "# Let the squid win"
   ]
  },
  {
   "cell_type": "code",
   "execution_count": 10,
   "metadata": {},
   "outputs": [],
   "source": [
    "def winner_tracking(BINGO, BINGO2, b, draw, winners, card_order):\n",
    "    \n",
    "    if BINGO[b] not in winners['winner']['card']:\n",
    "        winners = {'card_order': card_order,\n",
    "                   'winner':{'card': BINGO[b],\n",
    "                            'idx': BINGO2[b],\n",
    "                            'last_draw': draw}}\n",
    "        print(BINGO[b])\n",
    "        print(BINGO2[b])\n",
    "        print(draw)\n",
    "    \n",
    "    return winners\n",
    "\n",
    "\n",
    "\n",
    "def squid_wins():\n",
    "    iteration = 0\n",
    "    test = True\n",
    "    DRAW,_,_ = _init_(lines)\n",
    "    draws = '0'\n",
    "    while draws[-1] != '29':\n",
    "        if iteration == 0:\n",
    "            squid = play_bingo(iteration, 0, 0, 0)\n",
    "            \n",
    "        else:\n",
    "            squid = play_bingo(iteration, bingo, bingo2, DRAW)\n",
    "            \n",
    "        winning_card = squid[0]\n",
    "        winning_idx = squid[1]\n",
    "        last_draw = squid[2]\n",
    "        draws = squid[3]\n",
    "        bingo = squid[4]\n",
    "        bingo2 = squid[5]\n",
    "        b = squid[6]\n",
    "        iteration += 1\n",
    "        bingo = np.delete(bingo, b, axis = 0)\n",
    "        bingo2 = np.delete(bingo2, b, axis = 0)   \n",
    "        for element in draws:\n",
    "            if element in DRAW:\n",
    "                DRAW.remove(element)\n",
    "                \n",
    "    return winning_card, winning_idx, last_draw\n"
   ]
  },
  {
   "cell_type": "code",
   "execution_count": 14,
   "metadata": {},
   "outputs": [
    {
     "data": {
      "text/plain": [
       "38"
      ]
     },
     "execution_count": 14,
     "metadata": {},
     "output_type": "execute_result"
    }
   ],
   "source": [
    "squid = squid_wins()\n",
    "len(squid[0])\n",
    "\n"
   ]
  },
  {
   "cell_type": "code",
   "execution_count": 15,
   "metadata": {},
   "outputs": [
    {
     "data": {
      "text/plain": [
       "'29'"
      ]
     },
     "execution_count": 15,
     "metadata": {},
     "output_type": "execute_result"
    }
   ],
   "source": [
    "squid[2]"
   ]
  },
  {
   "cell_type": "code",
   "execution_count": null,
   "metadata": {},
   "outputs": [],
   "source": []
  }
 ],
 "metadata": {
  "interpreter": {
   "hash": "19d3e7aaac873176592bf5d2a1a75bbb24c4391e843b85be37ad8632463cb3d7"
  },
  "kernelspec": {
   "display_name": "Python 3.8.12 64-bit ('ML2': conda)",
   "language": "python",
   "name": "python3"
  },
  "language_info": {
   "codemirror_mode": {
    "name": "ipython",
    "version": 3
   },
   "file_extension": ".py",
   "mimetype": "text/x-python",
   "name": "python",
   "nbconvert_exporter": "python",
   "pygments_lexer": "ipython3",
   "version": "3.8.12"
  },
  "orig_nbformat": 4
 },
 "nbformat": 4,
 "nbformat_minor": 2
}
