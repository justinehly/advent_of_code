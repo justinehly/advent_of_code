{
 "cells": [
  {
   "cell_type": "code",
   "execution_count": 341,
   "metadata": {},
   "outputs": [],
   "source": [
    "import numpy as np\n",
    "import os\n",
    "\n"
   ]
  },
  {
   "cell_type": "code",
   "execution_count": 149,
   "metadata": {},
   "outputs": [
    {
     "data": {
      "text/plain": [
       "'c:\\\\Users\\\\justi\\\\GitHub\\\\advent_of_code\\\\day 5'"
      ]
     },
     "execution_count": 149,
     "metadata": {},
     "output_type": "execute_result"
    }
   ],
   "source": [
    "# helper function to correctly point Justin's python to the correct platform (windows vs osX)\n",
    "def justin_chdir():\n",
    "    from sys import platform\n",
    "\n",
    "    # windows: be sure so to change the <file> location\n",
    "    if platform == 'win32': os.chdir(r'C:\\Users\\justi\\github\\advent_of_code\\day 5')\n",
    "\n",
    "    # Mac OSX: be sure so to change the <file> location\n",
    "    elif platform == 'darwin': os.chdir('/Users/justinehly/GitHub/advent_of_code/day 5/')\n",
    "\n",
    "justin_chdir()\n",
    "os.getcwd()"
   ]
  },
  {
   "cell_type": "code",
   "execution_count": 510,
   "metadata": {},
   "outputs": [],
   "source": [
    "import re\n",
    "import math\n",
    "\n",
    "# create data file based on the input file\n",
    "def init(file): \n",
    "    with open(file) as f:\n",
    "        lines = f.readlines()\n",
    "        \n",
    "    data = [re.split('->|,|\\n', str(x))[:-1] for x in lines] # remove everything but the coordinates\n",
    "    \n",
    "    for i, x in enumerate(data):  # cycle through each set of corrdinates to conver them from str to int\n",
    "        data[i] = [int(c) for c in x] # list comprehension to make str into int\n",
    "    \n",
    "    data = np.array(data)\n",
    "    return data\n",
    "\n",
    "# make a scoring grid\n",
    "def make_scorer(data):\n",
    "    data_max = np.max(data)\n",
    "    score = np.zeros([data_max + 1, data_max +1 ]) # establish a grid to keep score\n",
    "    return score\n",
    "\n",
    "def diagonal_line(data, x_diff, y_diff, slope):\n",
    "       \n",
    "    if x_diff < 0 and y_diff < 0:\n",
    "        x = [i for i in range(data[0], data[2] - 1, -1)]\n",
    "        y = [i for i in range(data[1], data[3] - 1, -1)]\n",
    "    elif x_diff < 0:\n",
    "        x = [i for i in range(data[0], data[2] - 1, -1)]\n",
    "        y = [i for i in range(data[1], data[3] + 1, 1)]\n",
    "    elif y_diff < 0:\n",
    "        x = [i for i in range(data[0], data[2] + 1, 1)]\n",
    "        y = [i for i in range(data[1], data[3] - 1, -1)]\n",
    "    else:\n",
    "        x = [i for i in range(data[0], data[2] + 1, 1)]\n",
    "        y = [i for i in range(data[1], data[3] + 1, 1)]\n",
    "    \n",
    "    return x,y \n",
    "    \n",
    "def horizontal_line(data, x_diff):\n",
    "    if x_diff > 0:\n",
    "        x = [i for i in range(data[0], data[2] + 1)] \n",
    "    elif x_diff < 0:\n",
    "        x = [i for i in range(data[2], data[0] + 1)]\n",
    "    elif x_diff == 0:\n",
    "        x = [data[0]] # create a single element list for testing (in this case we would have just a single point)\n",
    "    \n",
    "    return x\n",
    "\n",
    "\n",
    "def vertical_line(data, y_diff):\n",
    "    if y_diff > 0:\n",
    "        y = [i for i in range(data[1], data[3] + 1)]\n",
    "    elif y_diff < 0:\n",
    "        y = [i for i in range(data[3], data[1] + 1)]\n",
    "    elif y_diff == 0:\n",
    "        y = [data[1]] # create a single element list for testing (in this case we would have just a single point)\n",
    "    \n",
    "    return y\n",
    "# make set of coordinates for each pair of coordinates\n",
    "def get_coords(data):\n",
    "    x_diff = data[2] - data[0]\n",
    "    y_diff = data[3] - data[1]\n",
    "    slope = abs(y_diff/ x_diff)\n",
    "    \n",
    "    # check for 45-degree angle line\n",
    "    if slope == 1:   \n",
    "        x,y = diagonal_line(data, x_diff, y_diff, slope)\n",
    "        \n",
    "    # horizontal line (no change in y)\n",
    "    elif slope == 0: \n",
    "       x = horizontal_line(data, x_diff)\n",
    "       y = [data[1] for i in range(len(x))] # make a list of the single element in the list that has as many elements as the x list\n",
    "        \n",
    "    # vertical line (no change in x)\n",
    "    elif math.isinf(slope): \n",
    "        y = vertical_line(data, y_diff)\n",
    "        x = [data[0] for i in range(len(y))]\n",
    "\n",
    "    else:\n",
    "        x=[-99]\n",
    "        y=[-99]   \n",
    "           \n",
    "        \n",
    "    coords = np.array((x,y))\n",
    "    return coords\n",
    "\n",
    "# fill in the diagram\n",
    "def diagram(data, scorer):\n",
    "    for i,row in enumerate(data):\n",
    "        coords = get_coords(row)\n",
    "        if coords.shape[1] > 1:\n",
    "            for element in range(coords.shape[1]):\n",
    "                scorer[coords[0,element], coords[1,element]] = scorer[coords[0,element], coords[1,element]] + 1\n",
    "\n",
    "    scorer = scorer.T\n",
    "    return scorer\n",
    "\n",
    "# how many danger zones?\n",
    "def danger_zones(final):\n",
    "    danger = np.where(final > 1)\n",
    "    answer = danger[0].shape[0]\n",
    "    return answer"
   ]
  },
  {
   "cell_type": "code",
   "execution_count": 515,
   "metadata": {},
   "outputs": [
    {
     "name": "stderr",
     "output_type": "stream",
     "text": [
      "C:\\Users\\justi\\AppData\\Local\\Temp/ipykernel_24192/3616632923.py:64: RuntimeWarning: divide by zero encountered in long_scalars\n",
      "  slope = abs(y_diff/ x_diff)\n"
     ]
    },
    {
     "data": {
      "text/plain": [
       "19929"
      ]
     },
     "execution_count": 515,
     "metadata": {},
     "output_type": "execute_result"
    }
   ],
   "source": [
    "example = 'day_5_ex.txt'\n",
    "input = 'day_5_input.txt'\n",
    "data = init(input)\n",
    "scorer = make_scorer(data)\n",
    "final = diagram(data, scorer)\n",
    "danger_zones(final)\n",
    "\n",
    "\n"
   ]
  },
  {
   "cell_type": "code",
   "execution_count": 514,
   "metadata": {},
   "outputs": [
    {
     "data": {
      "text/plain": [
       "array([[5, 6, 7, 8],\n",
       "       [5, 4, 3, 2]])"
      ]
     },
     "execution_count": 514,
     "metadata": {},
     "output_type": "execute_result"
    }
   ],
   "source": [
    "get_coords(data[9])\n"
   ]
  },
  {
   "cell_type": "code",
   "execution_count": 512,
   "metadata": {},
   "outputs": [
    {
     "data": {
      "text/plain": [
       "array([[1., 0., 1., 0., 0., 0., 0., 1., 1., 0.],\n",
       "       [0., 1., 1., 1., 0., 0., 0., 2., 0., 0.],\n",
       "       [0., 0., 2., 0., 1., 0., 1., 1., 1., 0.],\n",
       "       [0., 0., 0., 1., 0., 2., 0., 2., 0., 0.],\n",
       "       [0., 1., 1., 2., 3., 1., 3., 2., 1., 1.],\n",
       "       [0., 0., 0., 1., 0., 2., 0., 0., 0., 0.],\n",
       "       [0., 0., 1., 0., 0., 0., 1., 0., 0., 0.],\n",
       "       [0., 1., 0., 0., 0., 0., 0., 1., 0., 0.],\n",
       "       [1., 0., 0., 0., 0., 0., 0., 0., 1., 0.],\n",
       "       [2., 2., 2., 1., 1., 1., 0., 0., 0., 0.]])"
      ]
     },
     "execution_count": 512,
     "metadata": {},
     "output_type": "execute_result"
    }
   ],
   "source": [
    "final"
   ]
  },
  {
   "cell_type": "code",
   "execution_count": null,
   "metadata": {},
   "outputs": [],
   "source": []
  }
 ],
 "metadata": {
  "interpreter": {
   "hash": "3d630d3b95eee74e2dddaea51cb5d799dfbaf162144dbf776d006497dcb39c58"
  },
  "kernelspec": {
   "display_name": "Python 3.8.12 64-bit ('advent': conda)",
   "language": "python",
   "name": "python3"
  },
  "language_info": {
   "codemirror_mode": {
    "name": "ipython",
    "version": 3
   },
   "file_extension": ".py",
   "mimetype": "text/x-python",
   "name": "python",
   "nbconvert_exporter": "python",
   "pygments_lexer": "ipython3",
   "version": "3.8.12"
  },
  "orig_nbformat": 4
 },
 "nbformat": 4,
 "nbformat_minor": 2
}
