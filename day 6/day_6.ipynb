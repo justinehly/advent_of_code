{
 "cells": [
  {
   "cell_type": "code",
   "execution_count": 2,
   "metadata": {},
   "outputs": [],
   "source": [
    "import numpy as np\n",
    "import os"
   ]
  },
  {
   "cell_type": "code",
   "execution_count": 235,
   "metadata": {},
   "outputs": [
    {
     "data": {
      "text/plain": [
       "1609314870967"
      ]
     },
     "execution_count": 235,
     "metadata": {},
     "output_type": "execute_result"
    }
   ],
   "source": [
    "\n",
    "import collections\n",
    "\n",
    "example = [3,4,3,1,2]\n",
    "\n",
    "input = [4,2,4,1,5,1,2,2,4,1,1,2,2,2,4,4,1,2,1,1,4,1,2,1,2,2,2,2,5,2,2,3,1,4,4,4,1,2,3,4,4,5,4,3,5,1,2,5,1,1,5,5,1,4,4,5,1,3,1,4,5,5,5,4,1,2,3,4,2,1,2,1,2,2,1,5,5,1,1,1,1,5,2,2,2,4,2,4,2,4,2,1,2,1,2,4,2,4,1,3,5,5,2,4,4,2,2,2,2,3,3,2,1,1,1,1,4,3,2,5,4,3,5,3,1,5,5,2,4,1,1,2,1,3,5,1,5,3,1,3,1,4,5,1,1,3,2,1,1,1,5,2,1,2,4,2,3,3,2,3,5,1,5,1,2,1,5,2,4,1,2,4,4,1,5,1,1,5,2,2,5,5,3,1,2,2,1,1,4,1,5,4,5,5,2,2,1,1,2,5,4,3,2,2,5,4,2,5,4,4,2,3,1,1,1,5,5,4,5,3,2,5,3,4,5,1,4,1,1,3,4,4,1,1,5,1,4,1,2,1,4,1,1,3,1,5,2,5,1,5,2,5,2,5,4,1,1,4,4,2,3,1,5,2,5,1,5,2,1,1,1,2,1,1,1,4,4,5,4,4,1,4,2,2,2,5,3,2,4,4,5,5,1,1,1,1,3,1,2,1]\n",
    "\n",
    "\n",
    "\n",
    "keys = [0,1,2,3,4,5,6,7,8]\n",
    "track = {}\n",
    "\n",
    "# initialize the dictionary\n",
    "for k in keys:\n",
    "    track[k] = 0\n",
    "\n",
    "# fill in the initial values\n",
    "for item in input:\n",
    "    if item in track:\n",
    "        track[item] += 1 \n",
    "\n",
    "# cycle through the days\n",
    "days = 256\n",
    "\n",
    "for d in range(days):\n",
    "    zero = track[1]\n",
    "    track[1] = track[2]\n",
    "    track[2] = track[3]\n",
    "    track[3] = track[4]\n",
    "    track[4] = track[5]\n",
    "    track[5] = track[6]\n",
    "    track[6] = track[7] + track[0]\n",
    "    track[7] = track[8]\n",
    "    track[8] = track[0]\n",
    "    track[0] = zero\n",
    "    \n",
    "'''\n",
    "for k,v in track.items():\n",
    "    print(k,v)\n",
    "'''\n",
    "values = track.values()\n",
    "sum(values)\n"
   ]
  },
  {
   "cell_type": "code",
   "execution_count": null,
   "metadata": {},
   "outputs": [],
   "source": []
  }
 ],
 "metadata": {
  "interpreter": {
   "hash": "3d630d3b95eee74e2dddaea51cb5d799dfbaf162144dbf776d006497dcb39c58"
  },
  "kernelspec": {
   "display_name": "Python 3.8.12 64-bit ('advent': conda)",
   "language": "python",
   "name": "python3"
  },
  "language_info": {
   "codemirror_mode": {
    "name": "ipython",
    "version": 3
   },
   "file_extension": ".py",
   "mimetype": "text/x-python",
   "name": "python",
   "nbconvert_exporter": "python",
   "pygments_lexer": "ipython3",
   "version": "3.8.12"
  },
  "orig_nbformat": 4
 },
 "nbformat": 4,
 "nbformat_minor": 2
}
