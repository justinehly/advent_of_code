{
 "cells": [
  {
   "cell_type": "code",
   "execution_count": 198,
   "metadata": {},
   "outputs": [
    {
     "data": {
      "text/plain": [
       "26"
      ]
     },
     "execution_count": 198,
     "metadata": {},
     "output_type": "execute_result"
    }
   ],
   "source": [
    "# 8A\n",
    "import os\n",
    "os.chdir('/users/justinehly/github/advent_of_code/day 8')\n",
    "\n",
    "with open('example.txt') as f:\n",
    "    lines = f.readlines()\n",
    "\n",
    "#with open('input.txt') as f:\n",
    "#    lines = f.readlines()\n",
    "\n",
    "input = [i.split('|')[1] for i in lines] # grab just the data after the pipe delimiter and remove the key return\n",
    "input = [l.split() for l in input] # divide each of the outputs into its own list element\n",
    "cipher = [i.split('|')[0] for i in lines] # grab cipher before the pipe\n",
    "cipher = [i.split() for i in cipher] # divide each of the codes into individual strings and remove the return marker\n",
    "\n",
    "unique_nums = [2, 4, 3, 7]  # length of the signals we are targeting\n",
    "\n",
    "len([x for i in input for x in i if len(x) in unique_nums]) # count the signals that match the lengths we are looking for \n"
   ]
  },
  {
   "cell_type": "code",
   "execution_count": 654,
   "metadata": {},
   "outputs": [],
   "source": [
    "import copy\n",
    "def split(word):\n",
    "    return [letter for letter in word]\n",
    "\n",
    "def eight(cipher):\n",
    "    return [\"\".join(i) for i in cipher if len(i) == 7][0] \n",
    "\n",
    "def one(cipher):\n",
    "    return [\"\".join(i) for i in cipher if len(i) == 2][0]\n",
    "\n",
    "def number_cipher(cipher):\n",
    "    numbers = {}  # keep track of the numbers as we discover them\n",
    "    code = {} # keep track of how to map the letters based on the 7 positions of the analog read_out\n",
    "    '''\n",
    "                    top\n",
    "        |              ----               |\n",
    "        | left_upper  |    |  right_upper |\n",
    "        |             |    |              |\n",
    "    left |     middle   ----               | right\n",
    "        | left_lower  |    | right_lower  |\n",
    "        |             |    |              | \n",
    "        |              ----               |\n",
    "                    bottom\n",
    "    '''\n",
    "    \n",
    "    # pull out the #8\n",
    "    numbers[8] = eight(cipher)\n",
    "\n",
    "    # find the right pair of letters using #1\n",
    "    numbers[1] = one(cipher)\n",
    "    right = split(numbers[1])\n",
    "    print('right: %s' % right)\n",
    "    \n",
    "    # find the top of the cipher using #7\n",
    "    l7 = [x for x in cipher if len(x) == 3]\n",
    "    numbers[7] = l7[0]\n",
    "    l7 = split(l7[0])\n",
    "    code['top'] = [x for x in l7 + l1 if x not in l7 or x not in l1]\n",
    "    \n",
    "    code['top'] = code['top'][0]\n",
    "    print('top: %s' % code['top'])\n",
    "\n",
    "\n",
    "    #find middle and upper_right using #4\n",
    "    upper_left_middle = [split(i) for i in cipher if len(i) == 4][0]  # find the #4\n",
    "    numbers[4] = \"\".join(upper_left_middle)\n",
    "    upper_left_middle = [i for i in upper_left_middle if i not in right]  # remove the left labels, these values are either the upper_left or the middle\n",
    "\n",
    "    # - - - \n",
    "\n",
    "    # these are either 0, 6, 9 \n",
    "    l069 = [i for i in cipher if len(i) == 6] \n",
    "\n",
    "    # these are either 0, 6, 9, but the 0 won't include the middle letter while the 6/9 will share that value\n",
    "    c = []\n",
    "    for i in l069:\n",
    "        t = []\n",
    "        for x in i:\n",
    "            if x in upper_left_middle:\n",
    "                t.append(x)\n",
    "        c.append(t)\n",
    "\n",
    "    position_upper_left =  [[x,i[0]] for x,i in enumerate(c) if len(i) == 1][0]\n",
    "    numbers[0] = l069[position_upper_left[0]]\n",
    "    code['upper_left'] = position_upper_left[1]\n",
    "    code['middle'] = [x for x in upper_left_middle if x not in code['upper_left']][0]\n",
    "    \n",
    "\n",
    "    l069.remove(numbers[0])  # remove the 0\n",
    "    \n",
    "    # now we can split the 9 because it will inlcude the whole right\n",
    "    \n",
    "    # find the difference between the 6/9 by looking at the difference in the remaining 2 codes\n",
    "    l69 = [x for x in l069[0] + l069[1] if x not in l069[0] or x not in l069[1]]\n",
    "    code['lower_left'] = [x for x in l69 if x not in right][0]\n",
    "    code['upper_right'] = [x for x in l69 if x in right][0]\n",
    "    code['lower_right'] = [x for x in right if x not in code['upper_right']][0]\n",
    "    numbers[9] = [x for x in l69]\n",
    "\n",
    "    sides = split('abcdefg')\n",
    "    code['bottom'] = [x for x in sides if x not in code.values()][0]\n",
    "\n",
    "\n",
    "    # - - - \n",
    "\n",
    "    # these numbers are either 2,3,5\n",
    "    l235 = [i for i in cipher if len(i) == 5]\n",
    "    l235 = [sorted(\"\".join(i)) for i in l235]\n",
    "    l235\n",
    "    numbers[2] = [code['top'], code['upper_right'], code['middle'], code['lower_left'], code['bottom']]\n",
    "    numbers[2] = \"\".join(numbers[2])\n",
    "\n",
    "    numbers[3] = [code['top'], code['upper_right'], code['middle'], code['lower_right'], code['bottom']]\n",
    "    numbers[3] = \"\".join(numbers[3])\n",
    "\n",
    "    numbers[5] = [code['top'], code['upper_left'], code['middle'], code['lower_right'], code['bottom']]\n",
    "    numbers[5] = \"\".join(numbers[5])\n",
    "    \n",
    "    numbers = {k: \"\".join(sorted(v)) for k,v in numbers.items()}\n",
    "\n",
    "    return numbers, code\n"
   ]
  },
  {
   "cell_type": "code",
   "execution_count": 655,
   "metadata": {},
   "outputs": [],
   "source": [
    "def dash_display(codes):\n",
    "    return [\"\".join(sorted(i)) for i in codes]\n",
    "\n",
    "def match(numbers, code):\n",
    "    output = []\n",
    "    for codes in code:\n",
    "        output.append([key for key,value in numbers.items() if value == codes])\n",
    "        \n",
    "    return output\n",
    "\n"
   ]
  },
  {
   "cell_type": "code",
   "execution_count": 656,
   "metadata": {},
   "outputs": [
    {
     "name": "stdout",
     "output_type": "stream",
     "text": [
      "right: ['b', 'e']\n",
      "top: b\n"
     ]
    },
    {
     "ename": "IndexError",
     "evalue": "list index out of range",
     "output_type": "error",
     "traceback": [
      "\u001b[0;31m---------------------------------------------------------------------------\u001b[0m",
      "\u001b[0;31mIndexError\u001b[0m                                Traceback (most recent call last)",
      "\u001b[0;32m/var/folders/3q/p0hhcl793tnbyf1343m9jst40000gn/T/ipykernel_53986/3481958096.py\u001b[0m in \u001b[0;36m<module>\u001b[0;34m\u001b[0m\n\u001b[1;32m      9\u001b[0m \u001b[0mcodes\u001b[0m \u001b[0;34m=\u001b[0m \u001b[0mdash_display\u001b[0m\u001b[0;34m(\u001b[0m\u001b[0minput\u001b[0m\u001b[0;34m[\u001b[0m\u001b[0mn\u001b[0m\u001b[0;34m]\u001b[0m\u001b[0;34m)\u001b[0m\u001b[0;34m\u001b[0m\u001b[0;34m\u001b[0m\u001b[0m\n\u001b[1;32m     10\u001b[0m \u001b[0minit_output\u001b[0m \u001b[0;34m=\u001b[0m \u001b[0mmatch\u001b[0m\u001b[0;34m(\u001b[0m\u001b[0mnumbers\u001b[0m\u001b[0;34m,\u001b[0m \u001b[0mcodes\u001b[0m\u001b[0;34m)\u001b[0m\u001b[0;34m\u001b[0m\u001b[0;34m\u001b[0m\u001b[0m\n\u001b[0;32m---> 11\u001b[0;31m \u001b[0moutput\u001b[0m \u001b[0;34m=\u001b[0m \u001b[0mformat_output\u001b[0m\u001b[0;34m(\u001b[0m\u001b[0minit_output\u001b[0m\u001b[0;34m)\u001b[0m\u001b[0;34m\u001b[0m\u001b[0;34m\u001b[0m\u001b[0m\n\u001b[0m\u001b[1;32m     12\u001b[0m \u001b[0;34m\u001b[0m\u001b[0m\n\u001b[1;32m     13\u001b[0m \u001b[0mprint\u001b[0m\u001b[0;34m(\u001b[0m\u001b[0moutput\u001b[0m\u001b[0;34m)\u001b[0m\u001b[0;34m\u001b[0m\u001b[0;34m\u001b[0m\u001b[0m\n",
      "\u001b[0;32m/var/folders/3q/p0hhcl793tnbyf1343m9jst40000gn/T/ipykernel_53986/3481958096.py\u001b[0m in \u001b[0;36mformat_output\u001b[0;34m(output)\u001b[0m\n\u001b[1;32m      1\u001b[0m \u001b[0;32mdef\u001b[0m \u001b[0mformat_output\u001b[0m\u001b[0;34m(\u001b[0m\u001b[0moutput\u001b[0m\u001b[0;34m)\u001b[0m\u001b[0;34m:\u001b[0m\u001b[0;34m\u001b[0m\u001b[0;34m\u001b[0m\u001b[0m\n\u001b[0;32m----> 2\u001b[0;31m     \u001b[0moutput\u001b[0m \u001b[0;34m=\u001b[0m \u001b[0;34m[\u001b[0m\u001b[0mo\u001b[0m\u001b[0;34m[\u001b[0m\u001b[0;36m0\u001b[0m\u001b[0;34m]\u001b[0m \u001b[0;32mfor\u001b[0m \u001b[0mo\u001b[0m \u001b[0;32min\u001b[0m \u001b[0moutput\u001b[0m\u001b[0;34m]\u001b[0m\u001b[0;34m\u001b[0m\u001b[0;34m\u001b[0m\u001b[0m\n\u001b[0m\u001b[1;32m      3\u001b[0m     \u001b[0moutput\u001b[0m \u001b[0;34m=\u001b[0m \u001b[0;34m[\u001b[0m\u001b[0mstr\u001b[0m\u001b[0;34m(\u001b[0m\u001b[0mo\u001b[0m\u001b[0;34m)\u001b[0m \u001b[0;32mfor\u001b[0m \u001b[0mo\u001b[0m \u001b[0;32min\u001b[0m \u001b[0moutput\u001b[0m\u001b[0;34m]\u001b[0m\u001b[0;34m\u001b[0m\u001b[0;34m\u001b[0m\u001b[0m\n\u001b[1;32m      4\u001b[0m     \u001b[0moutput\u001b[0m \u001b[0;34m=\u001b[0m \u001b[0mint\u001b[0m\u001b[0;34m(\u001b[0m\u001b[0;34m\"\"\u001b[0m\u001b[0;34m.\u001b[0m\u001b[0mjoin\u001b[0m\u001b[0;34m(\u001b[0m\u001b[0moutput\u001b[0m\u001b[0;34m)\u001b[0m\u001b[0;34m)\u001b[0m\u001b[0;34m\u001b[0m\u001b[0;34m\u001b[0m\u001b[0m\n\u001b[1;32m      5\u001b[0m     \u001b[0;32mreturn\u001b[0m \u001b[0moutput\u001b[0m\u001b[0;34m\u001b[0m\u001b[0;34m\u001b[0m\u001b[0m\n",
      "\u001b[0;32m/var/folders/3q/p0hhcl793tnbyf1343m9jst40000gn/T/ipykernel_53986/3481958096.py\u001b[0m in \u001b[0;36m<listcomp>\u001b[0;34m(.0)\u001b[0m\n\u001b[1;32m      1\u001b[0m \u001b[0;32mdef\u001b[0m \u001b[0mformat_output\u001b[0m\u001b[0;34m(\u001b[0m\u001b[0moutput\u001b[0m\u001b[0;34m)\u001b[0m\u001b[0;34m:\u001b[0m\u001b[0;34m\u001b[0m\u001b[0;34m\u001b[0m\u001b[0m\n\u001b[0;32m----> 2\u001b[0;31m     \u001b[0moutput\u001b[0m \u001b[0;34m=\u001b[0m \u001b[0;34m[\u001b[0m\u001b[0mo\u001b[0m\u001b[0;34m[\u001b[0m\u001b[0;36m0\u001b[0m\u001b[0;34m]\u001b[0m \u001b[0;32mfor\u001b[0m \u001b[0mo\u001b[0m \u001b[0;32min\u001b[0m \u001b[0moutput\u001b[0m\u001b[0;34m]\u001b[0m\u001b[0;34m\u001b[0m\u001b[0;34m\u001b[0m\u001b[0m\n\u001b[0m\u001b[1;32m      3\u001b[0m     \u001b[0moutput\u001b[0m \u001b[0;34m=\u001b[0m \u001b[0;34m[\u001b[0m\u001b[0mstr\u001b[0m\u001b[0;34m(\u001b[0m\u001b[0mo\u001b[0m\u001b[0;34m)\u001b[0m \u001b[0;32mfor\u001b[0m \u001b[0mo\u001b[0m \u001b[0;32min\u001b[0m \u001b[0moutput\u001b[0m\u001b[0;34m]\u001b[0m\u001b[0;34m\u001b[0m\u001b[0;34m\u001b[0m\u001b[0m\n\u001b[1;32m      4\u001b[0m     \u001b[0moutput\u001b[0m \u001b[0;34m=\u001b[0m \u001b[0mint\u001b[0m\u001b[0;34m(\u001b[0m\u001b[0;34m\"\"\u001b[0m\u001b[0;34m.\u001b[0m\u001b[0mjoin\u001b[0m\u001b[0;34m(\u001b[0m\u001b[0moutput\u001b[0m\u001b[0;34m)\u001b[0m\u001b[0;34m)\u001b[0m\u001b[0;34m\u001b[0m\u001b[0;34m\u001b[0m\u001b[0m\n\u001b[1;32m      5\u001b[0m     \u001b[0;32mreturn\u001b[0m \u001b[0moutput\u001b[0m\u001b[0;34m\u001b[0m\u001b[0;34m\u001b[0m\u001b[0m\n",
      "\u001b[0;31mIndexError\u001b[0m: list index out of range"
     ]
    }
   ],
   "source": [
    "\n",
    "def format_output(output):  \n",
    "    output = [o[0] for o in output]\n",
    "    output = [str(o) for o in output]\n",
    "    output = int(\"\".join(output))\n",
    "    return output\n",
    "\n",
    "n = 0\n",
    "numbers, code = number_cipher(cipher[n])\n",
    "codes = dash_display(input[n])\n",
    "init_output = match(numbers, codes)\n",
    "output = format_output(init_output)\n",
    "\n",
    "print(output)\n",
    "\n"
   ]
  },
  {
   "cell_type": "code",
   "execution_count": 650,
   "metadata": {},
   "outputs": [
    {
     "data": {
      "text/plain": [
       "[[8], [3], [], [4]]"
      ]
     },
     "execution_count": 650,
     "metadata": {},
     "output_type": "execute_result"
    }
   ],
   "source": [
    "init_output"
   ]
  },
  {
   "cell_type": "code",
   "execution_count": 645,
   "metadata": {},
   "outputs": [
    {
     "data": {
      "text/plain": [
       "['aegbdf', 'ecdfab', 'gdcebf']"
      ]
     },
     "execution_count": 645,
     "metadata": {},
     "output_type": "execute_result"
    }
   ],
   "source": [
    "[x for x in cipher[n] if len(x) == 6]"
   ]
  },
  {
   "cell_type": "code",
   "execution_count": 638,
   "metadata": {},
   "outputs": [
    {
     "data": {
      "text/plain": [
       "'aegbdf'"
      ]
     },
     "execution_count": 638,
     "metadata": {},
     "output_type": "execute_result"
    }
   ],
   "source": [
    "numbers[0]"
   ]
  },
  {
   "cell_type": "code",
   "execution_count": 653,
   "metadata": {},
   "outputs": [
    {
     "data": {
      "text/plain": [
       "['b', 'e']"
      ]
     },
     "execution_count": 653,
     "metadata": {},
     "output_type": "execute_result"
    }
   ],
   "source": [
    "split(numbers[1])"
   ]
  },
  {
   "cell_type": "code",
   "execution_count": null,
   "metadata": {},
   "outputs": [],
   "source": []
  }
 ],
 "metadata": {
  "interpreter": {
   "hash": "0562b6637edcf237240edfa71d0f6872b3acd4eaf870a070440a11eeaf5c3cfd"
  },
  "kernelspec": {
   "display_name": "Python 3.9.7 64-bit ('advent': conda)",
   "language": "python",
   "name": "python3"
  },
  "language_info": {
   "codemirror_mode": {
    "name": "ipython",
    "version": 3
   },
   "file_extension": ".py",
   "mimetype": "text/x-python",
   "name": "python",
   "nbconvert_exporter": "python",
   "pygments_lexer": "ipython3",
   "version": "3.9.7"
  },
  "orig_nbformat": 4
 },
 "nbformat": 4,
 "nbformat_minor": 2
}
