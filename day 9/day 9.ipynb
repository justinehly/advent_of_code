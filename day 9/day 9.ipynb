{
 "cells": [
  {
   "cell_type": "code",
   "execution_count": 1,
   "metadata": {},
   "outputs": [],
   "source": [
    "import os\n",
    "\n",
    "os.getcwd()\n",
    "os.chdir(r'C:\\Users\\justi.DATA-POWER\\Documents\\Github\\advent_of_code\\day 9')"
   ]
  },
  {
   "cell_type": "code",
   "execution_count": 2,
   "metadata": {},
   "outputs": [],
   "source": [
    "with open('example.txt') as f:\n",
    "    lines = f.readlines()\n",
    "\n",
    "lines = [x[:-1] for x in lines]\n",
    "#print(lines)"
   ]
  },
  {
   "cell_type": "code",
   "execution_count": 3,
   "metadata": {},
   "outputs": [
    {
     "data": {
      "text/plain": [
       "matrix([[2, 1, 9, 9, 9, 4, 3, 2, 1, 0],\n",
       "        [3, 9, 8, 7, 8, 9, 4, 9, 2, 1],\n",
       "        [9, 8, 5, 6, 7, 8, 9, 8, 9, 2],\n",
       "        [8, 7, 6, 7, 8, 9, 6, 7, 8, 9],\n",
       "        [9, 8, 9, 9, 9, 6, 5, 6, 7, 8]])"
      ]
     },
     "execution_count": 3,
     "metadata": {},
     "output_type": "execute_result"
    }
   ],
   "source": [
    "import numpy as np\n",
    "\n",
    "def split(string):\n",
    "    return [item for item in string]\n",
    "\n",
    "input = [split(x) for x in lines]\n",
    "input = np.matrix(input)\n",
    "input = input.astype(int)\n",
    "input\n"
   ]
  },
  {
   "cell_type": "code",
   "execution_count": 4,
   "metadata": {},
   "outputs": [],
   "source": [
    "# i = row\n",
    "# x = column\n",
    "\n",
    "def find_nines(data):\n",
    "    nines = np.array(np.where(data == 9))\n",
    "    nines = np.stack((nines[0], nines[1]), axis = 1)  # reshape 2 arrays into 1 array of list of points in the matrix\n",
    "    return nines\n",
    "\n",
    "def make_tracker(data):\n",
    "    nines = find_nines(data)\n",
    "    size = data.shape\n",
    "    tracker = np.zeros(size) # score card\n",
    "    for n in nines:\n",
    "        tracker[n[0], n[1]] = 9\n",
    "    return tracker\n",
    "\n",
    "\n",
    "\n",
    "def submatrix(data, i, x):  # submatric creator \n",
    "    collect = None\n",
    "    if i == 0 and x == 0:                       # top left corner\n",
    "        result = data[np.ix_([i,i+1],[x,x+1])]  # returns 2x2 matrix\n",
    "        result[1,1] = 99  # not worried about diagonals\n",
    "        if result.min() == result[0,0] and result.min() < 9:\n",
    "            collect = [result.min(),(i,x)] # collect the value to keep\n",
    "            \n",
    "    elif i ==0 and x == input.shape[1] - 1:     # top right corner\n",
    "        result = data[np.ix_([i,i+1], [x-1,x])]  # returns 2x2 matrix\n",
    "        result[1, 0] = 99  # not worried about diagonals\n",
    "        if result.min() == result[0,1] and result.min() < 9:\n",
    "            collect = [result.min(),(i,x)] # collect the value to keep\n",
    "            \n",
    "    elif i== input.shape[0]-1 and x == 0:       # bottom left corner\n",
    "        result = data[np.ix_([i-1,i], [x,x+1])] \n",
    "        result[0,1] = 99  # not worried about diagonals\n",
    "        if result.min() == result[1,0] and result.min() < 9:\n",
    "            collect = [result.min(),(i,x)] # collect the value to keep\n",
    "            \n",
    "    elif i == input.shape[0] - 1 and x == input.shape[1] - 1: # bottom right corner\n",
    "        result = data[np.ix_([i-1,i], [x-1,x])]\n",
    "        result[0,0] == 99\n",
    "        if result.min() == result[1,1] and result.min() < 9:\n",
    "            collect = [result.min(),(i,x)]\n",
    "            \n",
    "    elif i == 0:                                # top row\n",
    "        result = data[np.ix_([i,i+1], [x-1, x, x+1])] # returns 3x2 matrix\n",
    "        result[1,0] = 99\n",
    "        result[1,2] = 99\n",
    "        if result.min() == result[0,1] and result.min() < 9:\n",
    "            collect = [result.min(),(i,x)]\n",
    "            \n",
    "    elif i == input.shape[0] - 1:               # bottom row\n",
    "        result = data[np.ix_([i-1,i], [x-1, x, x+1])]\n",
    "        result[0,0] = 99\n",
    "        result[0,2] = 99\n",
    "        if result.min() == result[1,1] and result.min() < 9:\n",
    "            collect = [result.min(),(i,x)]\n",
    "            \n",
    "    elif x == 0:                                # left edge column\n",
    "        result = data[np.ix_([i-1, i, i+1], [x,x+1])]\n",
    "        result[0,1] = 99\n",
    "        result[2,1] = 99\n",
    "        if result.min() == result[1,0] and result.min() < 9:\n",
    "            collect = [result.min(),(i,x)]\n",
    "    \n",
    "    elif x == input.shape[1] - 1:               # right edge column\n",
    "        result = data[np.ix_([i-1, i, i+1], [x-1,x])]\n",
    "        result[0,0] = 99\n",
    "        result[2,0] = 99\n",
    "        if result.min() == result[1,1] and result.min() < 9:\n",
    "            collect = [result.min(),(i,x)]\n",
    "    \n",
    "    else:                                       # everything else that is not on an edge or in a corner\n",
    "        result = data[np.ix_([i-1, i, i+1], [x-1, x, x+1])] # returns 3x3 matrix\n",
    "        result[0,0] = 99\n",
    "        result[2,0] = 99\n",
    "        result[0,2] = 99\n",
    "        result[2,2] = 99\n",
    "        if result.min() == result[1,1] and result.min() < 9:\n",
    "            collect = [result.min(),(i,x)]\n",
    "    \n",
    "    return collect\n",
    "\n",
    "def add_collect(input):\n",
    "    lowest_list = []\n",
    "    \n",
    "    for i in range(input.shape[0]):\n",
    "        for x in range(input.shape[1]):\n",
    "            lowest = submatrix(input, i,x)\n",
    "            if lowest != None:\n",
    "                lowest_list.append(lowest)\n",
    "    \n",
    "    low = [x[0] for x in lowest_list]  # the lowest number\n",
    "    idx = np.array([x[1] for x in lowest_list])  # index of the lowest number in the overall matrix\n",
    "\n",
    "    risk_level = [x+1 for x in low]    # calculate the risk level\n",
    "    return sum(risk_level), low, idx\n",
    "\n",
    "\n",
    "\n"
   ]
  },
  {
   "cell_type": "code",
   "execution_count": 45,
   "metadata": {},
   "outputs": [],
   "source": [
    "\n",
    "\n",
    "\n",
    "risk, low, low_idx = add_collect(input)\n"
   ]
  },
  {
   "cell_type": "markdown",
   "metadata": {},
   "source": [
    "### <font color='green'>--- Part Two ---</font>"
   ]
  },
  {
   "cell_type": "code",
   "execution_count": 77,
   "metadata": {},
   "outputs": [
    {
     "data": {
      "text/plain": [
       "([[array([0, 2], dtype=int64),\n",
       "   array([0, 3], dtype=int64),\n",
       "   array([0, 4], dtype=int64)],\n",
       "  [array([1, 1], dtype=int64),\n",
       "   array([1, 5], dtype=int64),\n",
       "   array([1, 7], dtype=int64)],\n",
       "  [array([2, 0], dtype=int64),\n",
       "   array([2, 6], dtype=int64),\n",
       "   array([2, 8], dtype=int64)],\n",
       "  [array([3, 5], dtype=int64), array([3, 9], dtype=int64)],\n",
       "  [array([4, 0], dtype=int64),\n",
       "   array([4, 2], dtype=int64),\n",
       "   array([4, 3], dtype=int64),\n",
       "   array([4, 4], dtype=int64)]],\n",
       " [[array([0, 1]), array([0, 9])],\n",
       "  [[1, 0]],\n",
       "  [array([2, 2])],\n",
       "  [[3, 0]],\n",
       "  [array([4, 6])]])"
      ]
     },
     "execution_count": 77,
     "metadata": {},
     "output_type": "execute_result"
    }
   ],
   "source": [
    "nines_loc = find_nines(input)\n",
    "tracker = make_tracker(input)\n",
    "\n",
    "# organize the nines by row\n",
    "nines = []\n",
    "for s in range(input.shape[0]):\n",
    "    nines.append([x for i,x in enumerate(nines_loc) if nines_loc[i][0] == s])\n",
    "\n",
    "idx = []\n",
    "for s in range(input.shape[0]):\n",
    "    idx.append([x for i,x in enumerate(low_idx) if low_idx[i][0] == s])\n",
    "idx = [[[p,0]] if x == [] else x for p,x in enumerate(idx)]\n",
    "\n",
    "nines, idx"
   ]
  },
  {
   "cell_type": "code",
   "execution_count": null,
   "metadata": {},
   "outputs": [],
   "source": []
  },
  {
   "cell_type": "code",
   "execution_count": 78,
   "metadata": {},
   "outputs": [],
   "source": [
    "from scipy.spatial import distance_matrix\n"
   ]
  },
  {
   "cell_type": "code",
   "execution_count": 79,
   "metadata": {},
   "outputs": [
    {
     "data": {
      "text/plain": [
       "[array([[2., 3., 4.]]),\n",
       " array([[1., 5., 7.]]),\n",
       " array([[0., 6., 8.]]),\n",
       " array([[5., 9.]]),\n",
       " array([[0., 2., 3., 4.]])]"
      ]
     },
     "execution_count": 79,
     "metadata": {},
     "output_type": "execute_result"
    }
   ],
   "source": [
    "# compute how far each nine is from the left edge of the matrix\n",
    "\n",
    "nine_dist = [distance_matrix([[d,0]], l) for d,l in enumerate(nines)]\n",
    "nine_dist"
   ]
  },
  {
   "cell_type": "code",
   "execution_count": 80,
   "metadata": {},
   "outputs": [
    {
     "data": {
      "text/plain": [
       "[array([[1., 9.]]), array([[0.]]), array([[2.]]), array([[0.]]), array([[6.]])]"
      ]
     },
     "execution_count": 80,
     "metadata": {},
     "output_type": "execute_result"
    }
   ],
   "source": [
    "idx_dist = [distance_matrix([[d,0]], l) for d,l in enumerate(idx)]\n",
    "idx_dist"
   ]
  },
  {
   "cell_type": "code",
   "execution_count": null,
   "metadata": {},
   "outputs": [],
   "source": []
  }
 ],
 "metadata": {
  "interpreter": {
   "hash": "f3165c495f4da75ba7d410a348508b2b22761667f2c648403d15942d68d67984"
  },
  "kernelspec": {
   "display_name": "R",
   "language": "python",
   "name": "python3"
  },
  "language_info": {
   "codemirror_mode": {
    "name": "ipython",
    "version": 3
   },
   "file_extension": ".py",
   "mimetype": "text/x-python",
   "name": "python",
   "nbconvert_exporter": "python",
   "pygments_lexer": "ipython3",
   "version": "3.9.7"
  },
  "orig_nbformat": 4
 },
 "nbformat": 4,
 "nbformat_minor": 2
}
