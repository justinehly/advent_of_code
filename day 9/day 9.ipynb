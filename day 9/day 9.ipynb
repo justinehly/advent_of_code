{
 "cells": [
  {
   "cell_type": "code",
   "execution_count": 223,
   "metadata": {},
   "outputs": [],
   "source": [
    "import os\n",
    "\n",
    "os.getcwd()\n",
    "os.chdir(r'C:\\Users\\justi\\Github\\advent_of_code\\day 9')"
   ]
  },
  {
   "cell_type": "code",
   "execution_count": 226,
   "metadata": {},
   "outputs": [],
   "source": [
    "with open('input.txt') as f:\n",
    "    lines = f.readlines()\n",
    "\n",
    "lines = [x[:-1] for x in lines]\n",
    "#print(lines)"
   ]
  },
  {
   "cell_type": "code",
   "execution_count": 227,
   "metadata": {},
   "outputs": [
    {
     "data": {
      "text/plain": [
       "matrix([[9, 2, 3, ..., 8, 9, 9],\n",
       "        [8, 9, 6, ..., 9, 9, 8],\n",
       "        [7, 8, 9, ..., 9, 8, 7],\n",
       "        ...,\n",
       "        [6, 4, 2, ..., 9, 8, 8],\n",
       "        [6, 5, 3, ..., 4, 9, 9],\n",
       "        [7, 6, 4, ..., 2, 3, 4]])"
      ]
     },
     "execution_count": 227,
     "metadata": {},
     "output_type": "execute_result"
    }
   ],
   "source": [
    "import numpy as np\n",
    "\n",
    "def split(string):\n",
    "    return [item for item in string]\n",
    "\n",
    "input = [split(x) for x in lines]\n",
    "input = np.matrix(input)\n",
    "input = input.astype(int)\n",
    "input\n"
   ]
  },
  {
   "cell_type": "code",
   "execution_count": 5,
   "metadata": {},
   "outputs": [],
   "source": [
    "# i = row\n",
    "# x = column\n",
    "\n",
    "def find_nines(data):\n",
    "    nines = np.array(np.where(data == 9))\n",
    "    nines = np.stack((nines[0], nines[1]), axis = 1)  # reshape 2 arrays into 1 array of list of points in the matrix\n",
    "    return nines\n",
    "\n",
    "def make_tracker(data):\n",
    "    nines = find_nines(data)\n",
    "    size = data.shape\n",
    "    tracker = np.zeros(size) # score card\n",
    "    for n in nines:\n",
    "        tracker[n[0], n[1]] = 9\n",
    "    return tracker\n",
    "\n",
    "\n",
    "\n",
    "def submatrix(data, i, x):  # submatric creator \n",
    "    collect = None\n",
    "    if i == 0 and x == 0:                       # top left corner\n",
    "        result = data[np.ix_([i,i+1],[x,x+1])]  # returns 2x2 matrix\n",
    "        result[1,1] = 99  # not worried about diagonals\n",
    "        if result.min() == result[0,0] and result.min() < 9:\n",
    "            collect = [result.min(),(i,x)] # collect the value to keep\n",
    "            \n",
    "    elif i ==0 and x == input.shape[1] - 1:     # top right corner\n",
    "        result = data[np.ix_([i,i+1], [x-1,x])]  # returns 2x2 matrix\n",
    "        result[1, 0] = 99  # not worried about diagonals\n",
    "        if result.min() == result[0,1] and result.min() < 9:\n",
    "            collect = [result.min(),(i,x)] # collect the value to keep\n",
    "            \n",
    "    elif i== input.shape[0]-1 and x == 0:       # bottom left corner\n",
    "        result = data[np.ix_([i-1,i], [x,x+1])] \n",
    "        result[0,1] = 99  # not worried about diagonals\n",
    "        if result.min() == result[1,0] and result.min() < 9:\n",
    "            collect = [result.min(),(i,x)] # collect the value to keep\n",
    "            \n",
    "    elif i == input.shape[0] - 1 and x == input.shape[1] - 1: # bottom right corner\n",
    "        result = data[np.ix_([i-1,i], [x-1,x])]\n",
    "        result[0,0] == 99\n",
    "        if result.min() == result[1,1] and result.min() < 9:\n",
    "            collect = [result.min(),(i,x)]\n",
    "            \n",
    "    elif i == 0:                                # top row\n",
    "        result = data[np.ix_([i,i+1], [x-1, x, x+1])] # returns 3x2 matrix\n",
    "        result[1,0] = 99\n",
    "        result[1,2] = 99\n",
    "        if result.min() == result[0,1] and result.min() < 9:\n",
    "            collect = [result.min(),(i,x)]\n",
    "            \n",
    "    elif i == input.shape[0] - 1:               # bottom row\n",
    "        result = data[np.ix_([i-1,i], [x-1, x, x+1])]\n",
    "        result[0,0] = 99\n",
    "        result[0,2] = 99\n",
    "        if result.min() == result[1,1] and result.min() < 9:\n",
    "            collect = [result.min(),(i,x)]\n",
    "            \n",
    "    elif x == 0:                                # left edge column\n",
    "        result = data[np.ix_([i-1, i, i+1], [x,x+1])]\n",
    "        result[0,1] = 99\n",
    "        result[2,1] = 99\n",
    "        if result.min() == result[1,0] and result.min() < 9:\n",
    "            collect = [result.min(),(i,x)]\n",
    "    \n",
    "    elif x == input.shape[1] - 1:               # right edge column\n",
    "        result = data[np.ix_([i-1, i, i+1], [x-1,x])]\n",
    "        result[0,0] = 99\n",
    "        result[2,0] = 99\n",
    "        if result.min() == result[1,1] and result.min() < 9:\n",
    "            collect = [result.min(),(i,x)]\n",
    "    \n",
    "    else:                                       # everything else that is not on an edge or in a corner\n",
    "        result = data[np.ix_([i-1, i, i+1], [x-1, x, x+1])] # returns 3x3 matrix\n",
    "        result[0,0] = 99\n",
    "        result[2,0] = 99\n",
    "        result[0,2] = 99\n",
    "        result[2,2] = 99\n",
    "        if result.min() == result[1,1] and result.min() < 9:\n",
    "            collect = [result.min(),(i,x)]\n",
    "    \n",
    "    return collect\n",
    "\n",
    "def add_collect(input):\n",
    "    lowest_list = []\n",
    "    \n",
    "    for i in range(input.shape[0]):\n",
    "        for x in range(input.shape[1]):\n",
    "            lowest = submatrix(input, i,x)\n",
    "            if lowest != None:\n",
    "                lowest_list.append(lowest)\n",
    "    \n",
    "    low = [x[0] for x in lowest_list]  # the lowest number\n",
    "    idx = np.array([x[1] for x in lowest_list])  # index of the lowest number in the overall matrix\n",
    "\n",
    "    risk_level = [x+1 for x in low]    # calculate the risk level\n",
    "    return sum(risk_level), low, idx\n",
    "\n",
    "\n",
    "\n"
   ]
  },
  {
   "cell_type": "code",
   "execution_count": 6,
   "metadata": {},
   "outputs": [],
   "source": [
    "\n",
    "\n",
    "\n",
    "risk, low, low_idx = add_collect(input)\n"
   ]
  },
  {
   "cell_type": "markdown",
   "metadata": {},
   "source": [
    "### <font color='green'>--- Part Two ---</font>"
   ]
  },
  {
   "cell_type": "code",
   "execution_count": 272,
   "metadata": {},
   "outputs": [],
   "source": [
    "class Graph:\n",
    "    \n",
    "    def __init__(self, graph):\n",
    "        self.row = graph.shape[0]\n",
    "        self.col = graph.shape[1]\n",
    "        self.graph = graph\n",
    "        \n",
    "    # function to determine if the number should even be evaluated in DFS\n",
    "    def safety(self, i, j, visited):\n",
    "        # row number is in range\n",
    "        # col number is in range\n",
    "        # have not visited this number\n",
    "        if (i >= 0 and i < self.row and\n",
    "            j >= 0 and j < self.col and\n",
    "            visited[i][j] == 1):\n",
    "            return visited[i][j]\n",
    "        \n",
    "    # function to do DFS for a 2D matrix (considering 8 neighbors only)\n",
    "    def DFS(self, i, j, visited, count):\n",
    "        \n",
    "        # directions\n",
    "        dirs = [(0, 1), (1, 0), (0, -1), (-1,0)]\n",
    "        \n",
    "        # mark cell as visited\n",
    "        visited[i][j] = count\n",
    "        \n",
    "        # recursion for all neighboring numbers\n",
    "        for k in range(4):\n",
    "            if self.safety(i + dirs[k][0], j + dirs[k][1], visited):\n",
    "                self.DFS(i + dirs[k][0], j + dirs[k][1], visited, count)\n",
    "                      \n",
    "    # main function that returns count of islands in the matrix\n",
    "    def countIslands(self):\n",
    "        nodes = []\n",
    "        visited = np.zeros(self.graph.shape)   \n",
    "        visited = np.where(self.graph == 9, visited, 1)\n",
    "        # initialize count = 0 and traverse through all cells\n",
    "        count = 0\n",
    "        for i in range(self.row):\n",
    "            for j in range(self.col):\n",
    "                if visited[i][j] == 1 :\n",
    "                    count -= 1\n",
    "                    self.DFS(i,j,visited, count)\n",
    "        # count the nodes in each island\n",
    "        for c in range(abs(islands)):\n",
    "            c += 1\n",
    "            node_count = len(np.where(visited == -c)[0])\n",
    "            nodes.append(node_count)\n",
    "        # 3 largest basins\n",
    "        nodes.sort()\n",
    "        large_basins = np.prod(nodes[-3:])\n",
    "        \n",
    "        return -count, nodes, large_basins\n",
    "        "
   ]
  },
  {
   "cell_type": "code",
   "execution_count": 274,
   "metadata": {},
   "outputs": [
    {
     "name": "stdout",
     "output_type": "stream",
     "text": [
      "Islands found: 4\n",
      "Number of nodes in each island: [3, 9, 9, 14]\n",
      "Dot produce of 3 largest basins: 1134\n"
     ]
    }
   ],
   "source": [
    "# first test 2D matrix\n",
    "basin = np.array([[2,1,9,9,9,4,3,2,1,0],\n",
    "                  [3,9,8,7,8,9,4,9,2,1],\n",
    "                  [9,8,5,6,7,8,9,8,9,2],\n",
    "                  [8,7,6,7,8,9,6,7,8,9],\n",
    "                  [9,8,9,9,9,6,5,6,7,8]])\n",
    "g = Graph(basin)\n",
    "islands,  nodes, large_basins = g.countIslands()\n",
    "print(f'Islands found: {islands}')\n",
    "print(f'Number of nodes in each island: {nodes}')\n",
    "print(f'Dot produce of 3 largest basins: {large_basins}')"
   ]
  },
  {
   "cell_type": "code",
   "execution_count": 276,
   "metadata": {},
   "outputs": [
    {
     "name": "stdout",
     "output_type": "stream",
     "text": [
      "Islands found: 208\n",
      "Number of nodes in each island: [2, 2, 2, 2, 2, 2, 3, 3, 3, 3, 3, 3, 3, 3, 3, 3, 3, 4, 4, 4, 4, 4, 5, 5, 6, 6, 7, 7, 7, 7, 7, 8, 9, 9, 9, 9, 9, 9, 9, 9, 9, 10, 10, 10, 10, 10, 11, 11, 11, 11, 11, 11, 12, 12, 12, 13, 13, 13, 13, 14, 14, 15, 15, 15, 15, 15, 17, 17, 18, 18, 18, 19, 19, 19, 19, 20, 20, 20, 20, 21, 21, 21, 21, 22, 22, 22, 22, 22, 22, 23, 23, 23, 23, 23, 23, 24, 24, 24, 25, 26, 26, 26, 26, 27, 27, 27, 27, 27, 27, 28, 28, 30, 31, 31, 32, 32, 32, 32, 32, 32, 33, 34, 34, 35, 35, 36, 36, 36, 36, 36, 37, 37, 37, 38, 38, 38, 38, 38, 39, 39, 40, 41, 41, 41, 44, 46, 46, 46, 46, 47, 48, 50, 51, 52, 53, 53, 56, 57, 58, 58, 59, 60, 60, 61, 62, 62, 63, 63, 66, 67, 67, 68, 72, 72, 73, 73, 75, 76, 76, 76, 78, 79, 79, 79, 81, 81, 81, 82, 87, 88, 88, 89, 89, 90, 91, 92, 92, 93, 93, 97, 99, 99, 101, 104, 106, 106, 107, 117]\n",
      "Dot produce of 3 largest basins: 1327014\n"
     ]
    }
   ],
   "source": [
    "g = Graph(input)\n",
    "islands, nodes, large_basins = g.countIslands()\n",
    "print(f'Islands found: {islands}')\n",
    "print(f'Number of nodes in each island: {nodes}')\n",
    "print(f'Dot produce of 3 largest basins: {large_basins}')"
   ]
  }
 ],
 "metadata": {
  "interpreter": {
   "hash": "f3165c495f4da75ba7d410a348508b2b22761667f2c648403d15942d68d67984"
  },
  "kernelspec": {
   "display_name": "R",
   "language": "python",
   "name": "python3"
  },
  "language_info": {
   "codemirror_mode": {
    "name": "ipython",
    "version": 3
   },
   "file_extension": ".py",
   "mimetype": "text/x-python",
   "name": "python",
   "nbconvert_exporter": "python",
   "pygments_lexer": "ipython3",
   "version": "3.8.12"
  },
  "orig_nbformat": 4
 },
 "nbformat": 4,
 "nbformat_minor": 2
}
