{
 "cells": [
  {
   "cell_type": "code",
   "execution_count": 2,
   "metadata": {},
   "outputs": [],
   "source": [
    "import os\n",
    "\n",
    "os.getcwd()\n",
    "os.chdir(r'C:\\Users\\justi.DATA-POWER\\Documents\\Github\\advent_of_code\\day 9')"
   ]
  },
  {
   "cell_type": "code",
   "execution_count": 3,
   "metadata": {},
   "outputs": [
    {
     "name": "stdout",
     "output_type": "stream",
     "text": [
      "['2199943210', '3987894921', '9856789892', '8767896789', '9899965678']\n"
     ]
    }
   ],
   "source": [
    "with open('example.txt') as f:\n",
    "    lines = f.readlines()\n",
    "\n",
    "lines = [x[:-1] for x in lines]\n",
    "print(lines)"
   ]
  },
  {
   "cell_type": "code",
   "execution_count": 4,
   "metadata": {},
   "outputs": [
    {
     "data": {
      "text/plain": [
       "matrix([[2, 1, 9, 9, 9, 4, 3, 2, 1, 0],\n",
       "        [3, 9, 8, 7, 8, 9, 4, 9, 2, 1],\n",
       "        [9, 8, 5, 6, 7, 8, 9, 8, 9, 2],\n",
       "        [8, 7, 6, 7, 8, 9, 6, 7, 8, 9],\n",
       "        [9, 8, 9, 9, 9, 6, 5, 6, 7, 8]])"
      ]
     },
     "execution_count": 4,
     "metadata": {},
     "output_type": "execute_result"
    }
   ],
   "source": [
    "import numpy as np\n",
    "\n",
    "def split(string):\n",
    "    return [item for item in string]\n",
    "\n",
    "input = [split(x) for x in lines]\n",
    "input = np.matrix(input)\n",
    "input = input.astype(int)\n",
    "input\n"
   ]
  },
  {
   "cell_type": "code",
   "execution_count": 5,
   "metadata": {},
   "outputs": [
    {
     "data": {
      "text/plain": [
       "matrix([[99, 99, 99],\n",
       "        [99, 99, 99],\n",
       "        [99, 99, 99]])"
      ]
     },
     "execution_count": 5,
     "metadata": {},
     "output_type": "execute_result"
    }
   ],
   "source": [
    "# create a tester to move over the matrix of numbers\n",
    "def tester():\n",
    "    return np.matrix([[99,99,99], [99,99,99], [99,99,99]])\n",
    "test = tester()\n",
    "test\n"
   ]
  },
  {
   "cell_type": "code",
   "execution_count": 20,
   "metadata": {},
   "outputs": [
    {
     "data": {
      "text/plain": [
       "0"
      ]
     },
     "execution_count": 20,
     "metadata": {},
     "output_type": "execute_result"
    }
   ],
   "source": [
    "input.min()"
   ]
  },
  {
   "cell_type": "code",
   "execution_count": 21,
   "metadata": {},
   "outputs": [
    {
     "data": {
      "text/plain": [
       "1"
      ]
     },
     "execution_count": 21,
     "metadata": {},
     "output_type": "execute_result"
    }
   ],
   "source": [
    "input[np.ix_([0,1,2],[0,1,2])].min()"
   ]
  },
  {
   "cell_type": "code",
   "execution_count": 58,
   "metadata": {},
   "outputs": [],
   "source": [
    "# i = row\n",
    "# x = column\n",
    "\n",
    "def submatrix(data, i, x):  # submatric creator \n",
    "    if i == 0 and x == 0:                       # top left corner\n",
    "        result = data[np.ix_([i,i+1],[x,x+1])]\n",
    "    elif i ==0 and x == input.shape[1] - 1:     # top right corner\n",
    "        result = data[np.ix_([i,i+1], [x-1,x])]\n",
    "    elif i== input.shape[0]-1 and x == 0:       # bottom left corner\n",
    "        result = data[np.ix_([i-1,i], [x,x+1])] \n",
    "    elif i == input.shape[0] - 1 and x == input.shape[1] - 1: # bottom right corner\n",
    "        result = data[np.ix_([i-1,i], [x-1,x])]\n",
    "    elif i == 0:                                # top row\n",
    "        result = data[np.ix_([i,i+1], [x-1, x, x+1])] # top row\n",
    "    elif i == input.shape[0] - 1:               # bottom row\n",
    "        result = data[np.ix_([i-1,i], [x-1, x, x+1])]\n",
    "    elif x == 0:                                # left edge column\n",
    "        result = data[np.ix_([i-1, i, i+1], [x,x+1])]\n",
    "    elif x == input.shape[1] - 1:               # right edge column\n",
    "        result = data[np.ix_([i-1, i, i+1], [x-1,x])]\n",
    "    else:\n",
    "        result = data[np.ix_([i-1, i, i+1], [x-1, x, x+1])]\n",
    "    return result\n",
    "\n",
    "\n"
   ]
  },
  {
   "cell_type": "code",
   "execution_count": 61,
   "metadata": {},
   "outputs": [
    {
     "name": "stdout",
     "output_type": "stream",
     "text": [
      "False\n",
      "<bound method matrix.min of matrix([[2, 1],\n",
      "        [3, 9]])> 2\n"
     ]
    }
   ],
   "source": [
    "result = submatrix(input, 0,0)\n",
    "print(result.min == result[0,0])\n",
    "print(result.min, result[0,0])\n"
   ]
  },
  {
   "cell_type": "code",
   "execution_count": 35,
   "metadata": {},
   "outputs": [
    {
     "data": {
      "text/plain": [
       "10"
      ]
     },
     "execution_count": 35,
     "metadata": {},
     "output_type": "execute_result"
    }
   ],
   "source": [
    "input.shape[1]\n"
   ]
  },
  {
   "cell_type": "code",
   "execution_count": null,
   "metadata": {},
   "outputs": [],
   "source": []
  }
 ],
 "metadata": {
  "interpreter": {
   "hash": "f3165c495f4da75ba7d410a348508b2b22761667f2c648403d15942d68d67984"
  },
  "kernelspec": {
   "display_name": "Python 3.9.7 64-bit ('advent': conda)",
   "language": "python",
   "name": "python3"
  },
  "language_info": {
   "codemirror_mode": {
    "name": "ipython",
    "version": 3
   },
   "file_extension": ".py",
   "mimetype": "text/x-python",
   "name": "python",
   "nbconvert_exporter": "python",
   "pygments_lexer": "ipython3",
   "version": "3.9.7"
  },
  "orig_nbformat": 4
 },
 "nbformat": 4,
 "nbformat_minor": 2
}
