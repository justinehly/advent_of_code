{
 "cells": [
  {
   "cell_type": "markdown",
   "metadata": {},
   "source": [
    "# Advent of Code Challenge\n",
    "## Depth measurement\n",
    "- by Justin Ehly"
   ]
  },
  {
   "cell_type": "code",
   "execution_count": 9,
   "metadata": {},
   "outputs": [
    {
     "ename": "SyntaxError",
     "evalue": "invalid syntax (Temp/ipykernel_19924/544920204.py, line 1)",
     "output_type": "error",
     "traceback": [
      "\u001b[1;36m  File \u001b[1;32m\"C:\\Users\\justi\\AppData\\Local\\Temp/ipykernel_19924/544920204.py\"\u001b[1;36m, line \u001b[1;32m1\u001b[0m\n\u001b[1;33m    depth = [https://adventofcode.com/2021/day/1/input]\u001b[0m\n\u001b[1;37m                  ^\u001b[0m\n\u001b[1;31mSyntaxError\u001b[0m\u001b[1;31m:\u001b[0m invalid syntax\n"
     ]
    }
   ],
   "source": [
    "depth = [https://adventofcode.com/2021/day/1/input]"
   ]
  },
  {
   "cell_type": "code",
   "execution_count": 6,
   "metadata": {},
   "outputs": [
    {
     "name": "stdout",
     "output_type": "stream",
     "text": [
      "['N/A - no previous result', 'increased', 'increased', 'increased', 'decreased', 'increased', 'increased', 'increased', 'decreased', 'increased']\n"
     ]
    }
   ],
   "source": [
    "result = []\n",
    "\n",
    "for i, d in enumerate(depth):\n",
    "    if i == 0:\n",
    "        result.append('N/A - no previous result')\n",
    "    elif depth[i] > depth[i-1]:\n",
    "        result.append('increased')\n",
    "    elif depth[i] < depth[i-1]: \n",
    "        result.append('decreased')\n",
    "    else:\n",
    "        result.append('no change')\n",
    "        \n",
    "\n",
    "        "
   ]
  },
  {
   "cell_type": "code",
   "execution_count": 8,
   "metadata": {},
   "outputs": [
    {
     "name": "stdout",
     "output_type": "stream",
     "text": [
      "7\n"
     ]
    }
   ],
   "source": [
    "count = 0\n",
    "for i in result:\n",
    "    if i == 'increased':\n",
    "        count += 1\n",
    "print(count)"
   ]
  },
  {
   "cell_type": "code",
   "execution_count": null,
   "metadata": {},
   "outputs": [],
   "source": []
  }
 ],
 "metadata": {
  "interpreter": {
   "hash": "d79ba8e79765032897327de42ed33141ac1a390dddcd4b31b9e96475274b075c"
  },
  "kernelspec": {
   "display_name": "Python 3.8.10 64-bit ('QTW': conda)",
   "language": "python",
   "name": "python3"
  },
  "language_info": {
   "codemirror_mode": {
    "name": "ipython",
    "version": 3
   },
   "file_extension": ".py",
   "mimetype": "text/x-python",
   "name": "python",
   "nbconvert_exporter": "python",
   "pygments_lexer": "ipython3",
   "version": "3.8.12"
  },
  "orig_nbformat": 4
 },
 "nbformat": 4,
 "nbformat_minor": 2
}
